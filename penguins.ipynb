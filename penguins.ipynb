{
 "cells": [
  {
   "cell_type": "markdown",
   "metadata": {},
   "source": [
    "<img src=\"https://vlegalwaymayo.atu.ie/pluginfile.php/1/theme_catawesome/logo/1708672446/logo.svg\" width=20% height=20%>\n",
    "\n",
    "# Analysis of Palmer Penguins data set\n",
    "\n",
    "************************\n",
    "*Task 01 of the assessment*\n",
    "************************\n",
    "\n",
    "This notebook contains my analysis of the famous Palmer Penguins dataset. \\\n",
    "This is the assessment for Principles of Data Analytics module on Higher Diploma in Data Analytics course from [ATU](https://www.atu.ie/) in Summer 2023/24. \n",
    "\n",
    "As an [ATU](https://www.atu.ie/) student without prevoius programming experience, this is a very important project as it helps me to practise varoius skills and information I learnt throughout the module.\n",
    "\n",
    "*author: Monika Dabrowska*\n",
    "\n",
    "\n",
    "<div style=\"text-align:center\">\n",
    "<img src=\"https://allisonhorst.github.io/palmerpenguins/reference/figures/lter_penguins.png\" width=50% height=50%>\n",
    "<div style=\"text-align:center\"><b>Artwork by @allison_horst</b>\n",
    "</div>"
   ]
  },
  {
   "cell_type": "markdown",
   "metadata": {},
   "source": [
    "## Introduction\n",
    "***************************\n",
    "\n",
    "The Palmer Penguins dataset is a very popular dataset in data analytics particularly for educational purposes. \\\n",
    "It's commonly used for data visualization and exploratory data analysis due to its relatively small size and easy-to-understand structure. \\\n",
    "This is an alternative to *Iris* dataset, a classic dataset commonly used for teaching and learning purposes.\n",
    "\n",
    "The Palmer Penguins dataset contains information on 344 individual penguins within three species: Chinstrap, Gentoo, and Adélie across three islands: Torgersen, Biscoe and Dream. \\\n",
    "It was collected from [Palmer Station in Antarctica](https://en.wikipedia.org/wiki/Palmer_Station) and includes various measurements such as bill length, bill depth, flipper length, body mass, and sex. \n",
    "\n"
   ]
  },
  {
   "cell_type": "markdown",
   "metadata": {},
   "source": [
    "\n",
    "\n",
    "This dataset was collected from 2007 to 2009 by [Dr. Kristen Gorman](https://www.uaf.edu/cfos/people/faculty/detail/kristen-gorman.php) and the [Palmer Station, Antarctica LTER (Long Term Ecological Research)](https://pallter.marine.rutgers.edu/) program, part of the [US Long Term Ecological Research Network](https://lternet.edu/).\n",
    "\n",
    "\n",
    "<div style=\"text-align:center\">\n",
    "<img src=\"https://github.com/mondbr/pofda-mywork/blob/main/img/PalmerStation.jpg?raw=true\">\n",
    "<div style=\"text-align:center\"><b>Source: Wikipedia</b>\n",
    "</div>\n",
    "\n",
    "\n",
    "The dataset is available [on GitHub](https://allisonhorst.github.io/palmerpenguins/)."
   ]
  },
  {
   "cell_type": "markdown",
   "metadata": {},
   "source": [
    "## Imports and Data Exploration\n",
    "\n",
    "***\n",
    "*Task 02 of the assessment*\n",
    "***"
   ]
  },
  {
   "cell_type": "markdown",
   "metadata": {},
   "source": [
    "### Imports\n",
    "\n",
    "We use pandas for the DataFrame data structure.\n",
    "\n",
    "As a first step, I am importing the necessary library. For this assesment I will be using [Pandas](https://www.w3schools.com/python/pandas/pandas_intro.asp#:~:text=Pandas%20is%20a%20Python%20library,by%20Wes%20McKinney%20in%202008.) for data exploration.\n",
    "\n",
    "It allows us to investigate CSV files, amonsgst other features. "
   ]
  },
  {
   "cell_type": "code",
   "execution_count": 1,
   "metadata": {},
   "outputs": [],
   "source": [
    "# Data frames - Pandas is a Python library that works like Excel (spreadsheets) but programatically in Python.\n",
    "\n",
    "import pandas as pd "
   ]
  },
  {
   "cell_type": "markdown",
   "metadata": {},
   "source": [
    "##### Numpy\n"
   ]
  },
  {
   "cell_type": "code",
   "execution_count": 2,
   "metadata": {},
   "outputs": [],
   "source": [
    "# Seaborn is a statistical plotting library for Python.\n",
    "# It is used for creating graphs and plots and using them to analyze data statistically. \n",
    "# https://github.com/mwaskom/seaborn\n",
    "\n",
    "import seaborn as sns"
   ]
  },
  {
   "cell_type": "markdown",
   "metadata": {},
   "source": [
    "### Load Data\n",
    "\n",
    "\n",
    "I am loading the palmer penguins data set online from this [URL](https://raw.githubusercontent.com/mwaskom/seaborn-data/master/penguins.csv). This is a raw file that I should use from my [assesment brief](https://ianmcloughlin.github.io/2324_principles_of_data_analytics/)."
   ]
  },
  {
   "cell_type": "code",
   "execution_count": 3,
   "metadata": {},
   "outputs": [],
   "source": [
    "# Load the penguins data set. \n",
    "\n",
    "df = pd.read_csv(\"https://raw.githubusercontent.com/mwaskom/seaborn-data/master/penguins.csv\")"
   ]
  },
  {
   "cell_type": "markdown",
   "metadata": {},
   "source": [
    "The data is now loaded and we can inspect it."
   ]
  },
  {
   "cell_type": "code",
   "execution_count": 4,
   "metadata": {},
   "outputs": [
    {
     "data": {
      "text/html": [
       "<div>\n",
       "<style scoped>\n",
       "    .dataframe tbody tr th:only-of-type {\n",
       "        vertical-align: middle;\n",
       "    }\n",
       "\n",
       "    .dataframe tbody tr th {\n",
       "        vertical-align: top;\n",
       "    }\n",
       "\n",
       "    .dataframe thead th {\n",
       "        text-align: right;\n",
       "    }\n",
       "</style>\n",
       "<table border=\"1\" class=\"dataframe\">\n",
       "  <thead>\n",
       "    <tr style=\"text-align: right;\">\n",
       "      <th></th>\n",
       "      <th>species</th>\n",
       "      <th>island</th>\n",
       "      <th>bill_length_mm</th>\n",
       "      <th>bill_depth_mm</th>\n",
       "      <th>flipper_length_mm</th>\n",
       "      <th>body_mass_g</th>\n",
       "      <th>sex</th>\n",
       "    </tr>\n",
       "  </thead>\n",
       "  <tbody>\n",
       "    <tr>\n",
       "      <th>0</th>\n",
       "      <td>Adelie</td>\n",
       "      <td>Torgersen</td>\n",
       "      <td>39.1</td>\n",
       "      <td>18.7</td>\n",
       "      <td>181.0</td>\n",
       "      <td>3750.0</td>\n",
       "      <td>MALE</td>\n",
       "    </tr>\n",
       "    <tr>\n",
       "      <th>1</th>\n",
       "      <td>Adelie</td>\n",
       "      <td>Torgersen</td>\n",
       "      <td>39.5</td>\n",
       "      <td>17.4</td>\n",
       "      <td>186.0</td>\n",
       "      <td>3800.0</td>\n",
       "      <td>FEMALE</td>\n",
       "    </tr>\n",
       "    <tr>\n",
       "      <th>2</th>\n",
       "      <td>Adelie</td>\n",
       "      <td>Torgersen</td>\n",
       "      <td>40.3</td>\n",
       "      <td>18.0</td>\n",
       "      <td>195.0</td>\n",
       "      <td>3250.0</td>\n",
       "      <td>FEMALE</td>\n",
       "    </tr>\n",
       "    <tr>\n",
       "      <th>3</th>\n",
       "      <td>Adelie</td>\n",
       "      <td>Torgersen</td>\n",
       "      <td>NaN</td>\n",
       "      <td>NaN</td>\n",
       "      <td>NaN</td>\n",
       "      <td>NaN</td>\n",
       "      <td>NaN</td>\n",
       "    </tr>\n",
       "    <tr>\n",
       "      <th>4</th>\n",
       "      <td>Adelie</td>\n",
       "      <td>Torgersen</td>\n",
       "      <td>36.7</td>\n",
       "      <td>19.3</td>\n",
       "      <td>193.0</td>\n",
       "      <td>3450.0</td>\n",
       "      <td>FEMALE</td>\n",
       "    </tr>\n",
       "    <tr>\n",
       "      <th>...</th>\n",
       "      <td>...</td>\n",
       "      <td>...</td>\n",
       "      <td>...</td>\n",
       "      <td>...</td>\n",
       "      <td>...</td>\n",
       "      <td>...</td>\n",
       "      <td>...</td>\n",
       "    </tr>\n",
       "    <tr>\n",
       "      <th>339</th>\n",
       "      <td>Gentoo</td>\n",
       "      <td>Biscoe</td>\n",
       "      <td>NaN</td>\n",
       "      <td>NaN</td>\n",
       "      <td>NaN</td>\n",
       "      <td>NaN</td>\n",
       "      <td>NaN</td>\n",
       "    </tr>\n",
       "    <tr>\n",
       "      <th>340</th>\n",
       "      <td>Gentoo</td>\n",
       "      <td>Biscoe</td>\n",
       "      <td>46.8</td>\n",
       "      <td>14.3</td>\n",
       "      <td>215.0</td>\n",
       "      <td>4850.0</td>\n",
       "      <td>FEMALE</td>\n",
       "    </tr>\n",
       "    <tr>\n",
       "      <th>341</th>\n",
       "      <td>Gentoo</td>\n",
       "      <td>Biscoe</td>\n",
       "      <td>50.4</td>\n",
       "      <td>15.7</td>\n",
       "      <td>222.0</td>\n",
       "      <td>5750.0</td>\n",
       "      <td>MALE</td>\n",
       "    </tr>\n",
       "    <tr>\n",
       "      <th>342</th>\n",
       "      <td>Gentoo</td>\n",
       "      <td>Biscoe</td>\n",
       "      <td>45.2</td>\n",
       "      <td>14.8</td>\n",
       "      <td>212.0</td>\n",
       "      <td>5200.0</td>\n",
       "      <td>FEMALE</td>\n",
       "    </tr>\n",
       "    <tr>\n",
       "      <th>343</th>\n",
       "      <td>Gentoo</td>\n",
       "      <td>Biscoe</td>\n",
       "      <td>49.9</td>\n",
       "      <td>16.1</td>\n",
       "      <td>213.0</td>\n",
       "      <td>5400.0</td>\n",
       "      <td>MALE</td>\n",
       "    </tr>\n",
       "  </tbody>\n",
       "</table>\n",
       "<p>344 rows × 7 columns</p>\n",
       "</div>"
      ],
      "text/plain": [
       "    species     island  bill_length_mm  bill_depth_mm  flipper_length_mm  \\\n",
       "0    Adelie  Torgersen            39.1           18.7              181.0   \n",
       "1    Adelie  Torgersen            39.5           17.4              186.0   \n",
       "2    Adelie  Torgersen            40.3           18.0              195.0   \n",
       "3    Adelie  Torgersen             NaN            NaN                NaN   \n",
       "4    Adelie  Torgersen            36.7           19.3              193.0   \n",
       "..      ...        ...             ...            ...                ...   \n",
       "339  Gentoo     Biscoe             NaN            NaN                NaN   \n",
       "340  Gentoo     Biscoe            46.8           14.3              215.0   \n",
       "341  Gentoo     Biscoe            50.4           15.7              222.0   \n",
       "342  Gentoo     Biscoe            45.2           14.8              212.0   \n",
       "343  Gentoo     Biscoe            49.9           16.1              213.0   \n",
       "\n",
       "     body_mass_g     sex  \n",
       "0         3750.0    MALE  \n",
       "1         3800.0  FEMALE  \n",
       "2         3250.0  FEMALE  \n",
       "3            NaN     NaN  \n",
       "4         3450.0  FEMALE  \n",
       "..           ...     ...  \n",
       "339          NaN     NaN  \n",
       "340       4850.0  FEMALE  \n",
       "341       5750.0    MALE  \n",
       "342       5200.0  FEMALE  \n",
       "343       5400.0    MALE  \n",
       "\n",
       "[344 rows x 7 columns]"
      ]
     },
     "execution_count": 4,
     "metadata": {},
     "output_type": "execute_result"
    }
   ],
   "source": [
    "# Let's have a look.\n",
    "\n",
    "df\n"
   ]
  },
  {
   "cell_type": "markdown",
   "metadata": {},
   "source": [
    "Data set is now loaded from *.csv file and presented as a table above with rows, columns and titles. This is one of the Python and Jupyter features that puts the data into representation called a data structure. \n",
    "\n",
    "There is 344 rows and 7 columns in total where the 1<sup>[*st*](https://www.w3schools.com/tags/tag_sup.asp)</sup> column represents an unique identifier (starting from index/label 0 as a first row, index 1 for second row and so on) for every instance of data. The following columns are representing categories of data in the dataset such as body mass of the penguin or island where they lived. \n",
    "\n",
    "\n",
    "We can see varoius measurments that this data includes such as:\n",
    "\n",
    "-  **species**: penguin species:\n",
    "    - Chinstrap, \n",
    "    - Adélie, \n",
    "    - Gentoo,\n",
    "-  **island**: island name in the Palmer Archipelago (Antarctica):\n",
    "    - Dream,\n",
    "    - Torgersen\n",
    "    - Biscoe, \n",
    "- **bill_length_mm**: bill (culmen) lenght in milimeters,\n",
    "\n",
    "- **bill_depth_mm**:  bill (culmen) depth in milimeters,\n",
    "\n",
    "- **flipper_length_mm**: flipper length in milimeters,\n",
    "\n",
    "- **body mass**: body mass in grams,\n",
    "\n",
    "- **sex**: penguin sex (male or female). \n",
    "\n",
    "\n"
   ]
  },
  {
   "cell_type": "markdown",
   "metadata": {},
   "source": [
    "\n",
    "Let's have a look on penguins body parts to better visualise what information we are looking at! \n",
    "\n",
    "<div style=\"text-align:center\">\n",
    "<img src=\"https://media.istockphoto.com/id/1300940264/vector/body-parts-of-the-penguin-scheme-for-children.jpg?s=2048x2048&w=is&k=20&c=9qah6-lsK761HxNGBEQ9mooltykq2yK60n6FbVxY2TA=\"  width=30% height=30%>\n",
    "<div style=\"text-align:center\"><b>Source: istockophoto.com by @Milyausha Shaykhtdinova</b>\n",
    "</div>\n"
   ]
  },
  {
   "cell_type": "markdown",
   "metadata": {},
   "source": [
    "For this penguin data, the culmen (bill) length and depth are measured as shown below:\n",
    "\n",
    "<div style=\"text-align:center\">\n",
    "<img src=\"https://allisonhorst.github.io/palmerpenguins/reference/figures/culmen_depth.png\" width=30% height=30%>\n",
    "<div style=\"text-align:center\"><b>Artwork by @allison_horst</b>\n",
    "</div>\n",
    "\n",
    "\n"
   ]
  },
  {
   "cell_type": "markdown",
   "metadata": {},
   "source": [
    "##### Missing Data - is it really missing? \n",
    "This data set also contains some missing values. On the CSV file there are some values not entered (blank values) - those values are presented as NaN *(Not a Number)* here. \n",
    "\n",
    "We also don't see the full table with entire data, but only a few rows. That does not mean we don't have that information. Rows that are out of screen are reffered as three dots. This way, we can see first five rows and last five rows of the table instead of presenting full table with entire data, but the information is still there. "
   ]
  },
  {
   "cell_type": "markdown",
   "metadata": {},
   "source": [
    "### Inspect data\n",
    "***\n",
    "\n",
    "Let's take a deeper look into our Pengiuns data we just imported and the values that contains!"
   ]
  },
  {
   "cell_type": "markdown",
   "metadata": {},
   "source": [
    "Why don't we check how the first row looks? "
   ]
  },
  {
   "cell_type": "code",
   "execution_count": 5,
   "metadata": {},
   "outputs": [
    {
     "data": {
      "text/plain": [
       "species                 Adelie\n",
       "island               Torgersen\n",
       "bill_length_mm            39.1\n",
       "bill_depth_mm             18.7\n",
       "flipper_length_mm        181.0\n",
       "body_mass_g             3750.0\n",
       "sex                       MALE\n",
       "Name: 0, dtype: object"
      ]
     },
     "execution_count": 5,
     "metadata": {},
     "output_type": "execute_result"
    }
   ],
   "source": [
    "# Look at the first row:\n",
    "\n",
    "df.iloc[0]\n",
    "\n",
    "# This will show all the values from the first row. "
   ]
  },
  {
   "cell_type": "markdown",
   "metadata": {},
   "source": [
    "Using the *iloc[ ]* function provided by Pandas library we can see all the values from the row we selected. In this case we are checking first row (with the index 0). \n",
    "\n",
    "I learnt how to use the above and a few following functions in topic 03 of our module."
   ]
  },
  {
   "cell_type": "markdown",
   "metadata": {},
   "source": [
    "Now, let's see data from one specific column:"
   ]
  },
  {
   "cell_type": "code",
   "execution_count": 6,
   "metadata": {},
   "outputs": [
    {
     "data": {
      "text/plain": [
       "0        MALE\n",
       "1      FEMALE\n",
       "2      FEMALE\n",
       "3         NaN\n",
       "4      FEMALE\n",
       "        ...  \n",
       "339       NaN\n",
       "340    FEMALE\n",
       "341      MALE\n",
       "342    FEMALE\n",
       "343      MALE\n",
       "Name: sex, Length: 344, dtype: object"
      ]
     },
     "execution_count": 6,
     "metadata": {},
     "output_type": "execute_result"
    }
   ],
   "source": [
    "# Sex of penguins:\n",
    "\n",
    "df['sex']\n",
    "\n",
    "# This will show us only one entire column. "
   ]
  },
  {
   "cell_type": "code",
   "execution_count": 7,
   "metadata": {},
   "outputs": [
    {
     "data": {
      "text/plain": [
       "sex\n",
       "MALE      168\n",
       "FEMALE    165\n",
       "Name: count, dtype: int64"
      ]
     },
     "execution_count": 7,
     "metadata": {},
     "output_type": "execute_result"
    }
   ],
   "source": [
    "# Count of the number of penguins of each sex and the data type:\n",
    "\n",
    "df[\"sex\"].value_counts()\n",
    "\n"
   ]
  },
  {
   "cell_type": "markdown",
   "metadata": {},
   "source": [
    "The total of 168 males and 165 females gives us 333 counts. Given that we have 344 objects (individual penguins) in total, 11 values are NaN - so we have no data/ missing information about sex of 11 penguins in our dataset. "
   ]
  },
  {
   "cell_type": "markdown",
   "metadata": {},
   "source": [
    "Now, let's have a look how many penguins lives on each island!"
   ]
  },
  {
   "cell_type": "code",
   "execution_count": 8,
   "metadata": {},
   "outputs": [
    {
     "data": {
      "text/plain": [
       "island\n",
       "Biscoe       168\n",
       "Dream        124\n",
       "Torgersen     52\n",
       "Name: count, dtype: int64"
      ]
     },
     "execution_count": 8,
     "metadata": {},
     "output_type": "execute_result"
    }
   ],
   "source": [
    "# Count of the number of penguins of each sex and the data type:\n",
    "\n",
    "df[\"island\"].value_counts()"
   ]
  },
  {
   "cell_type": "markdown",
   "metadata": {},
   "source": [
    "Most of our penguins lives in Biscoe island and only 15% of all of 344 penguins from our dataset lives  set in Torgersten island. We have the information for all 344 objects, so we know where all our little creatures have their home. "
   ]
  },
  {
   "cell_type": "markdown",
   "metadata": {},
   "source": [
    "Now, I will use a *describe()* built-in Python fuction that allows me to get some basic statistical variables of our data. "
   ]
  },
  {
   "cell_type": "code",
   "execution_count": 9,
   "metadata": {},
   "outputs": [
    {
     "data": {
      "text/html": [
       "<div>\n",
       "<style scoped>\n",
       "    .dataframe tbody tr th:only-of-type {\n",
       "        vertical-align: middle;\n",
       "    }\n",
       "\n",
       "    .dataframe tbody tr th {\n",
       "        vertical-align: top;\n",
       "    }\n",
       "\n",
       "    .dataframe thead th {\n",
       "        text-align: right;\n",
       "    }\n",
       "</style>\n",
       "<table border=\"1\" class=\"dataframe\">\n",
       "  <thead>\n",
       "    <tr style=\"text-align: right;\">\n",
       "      <th></th>\n",
       "      <th>bill_length_mm</th>\n",
       "      <th>bill_depth_mm</th>\n",
       "      <th>flipper_length_mm</th>\n",
       "      <th>body_mass_g</th>\n",
       "    </tr>\n",
       "  </thead>\n",
       "  <tbody>\n",
       "    <tr>\n",
       "      <th>count</th>\n",
       "      <td>342.000000</td>\n",
       "      <td>342.000000</td>\n",
       "      <td>342.000000</td>\n",
       "      <td>342.000000</td>\n",
       "    </tr>\n",
       "    <tr>\n",
       "      <th>mean</th>\n",
       "      <td>43.921930</td>\n",
       "      <td>17.151170</td>\n",
       "      <td>200.915205</td>\n",
       "      <td>4201.754386</td>\n",
       "    </tr>\n",
       "    <tr>\n",
       "      <th>std</th>\n",
       "      <td>5.459584</td>\n",
       "      <td>1.974793</td>\n",
       "      <td>14.061714</td>\n",
       "      <td>801.954536</td>\n",
       "    </tr>\n",
       "    <tr>\n",
       "      <th>min</th>\n",
       "      <td>32.100000</td>\n",
       "      <td>13.100000</td>\n",
       "      <td>172.000000</td>\n",
       "      <td>2700.000000</td>\n",
       "    </tr>\n",
       "    <tr>\n",
       "      <th>25%</th>\n",
       "      <td>39.225000</td>\n",
       "      <td>15.600000</td>\n",
       "      <td>190.000000</td>\n",
       "      <td>3550.000000</td>\n",
       "    </tr>\n",
       "    <tr>\n",
       "      <th>50%</th>\n",
       "      <td>44.450000</td>\n",
       "      <td>17.300000</td>\n",
       "      <td>197.000000</td>\n",
       "      <td>4050.000000</td>\n",
       "    </tr>\n",
       "    <tr>\n",
       "      <th>75%</th>\n",
       "      <td>48.500000</td>\n",
       "      <td>18.700000</td>\n",
       "      <td>213.000000</td>\n",
       "      <td>4750.000000</td>\n",
       "    </tr>\n",
       "    <tr>\n",
       "      <th>max</th>\n",
       "      <td>59.600000</td>\n",
       "      <td>21.500000</td>\n",
       "      <td>231.000000</td>\n",
       "      <td>6300.000000</td>\n",
       "    </tr>\n",
       "  </tbody>\n",
       "</table>\n",
       "</div>"
      ],
      "text/plain": [
       "       bill_length_mm  bill_depth_mm  flipper_length_mm  body_mass_g\n",
       "count      342.000000     342.000000         342.000000   342.000000\n",
       "mean        43.921930      17.151170         200.915205  4201.754386\n",
       "std          5.459584       1.974793          14.061714   801.954536\n",
       "min         32.100000      13.100000         172.000000  2700.000000\n",
       "25%         39.225000      15.600000         190.000000  3550.000000\n",
       "50%         44.450000      17.300000         197.000000  4050.000000\n",
       "75%         48.500000      18.700000         213.000000  4750.000000\n",
       "max         59.600000      21.500000         231.000000  6300.000000"
      ]
     },
     "execution_count": 9,
     "metadata": {},
     "output_type": "execute_result"
    }
   ],
   "source": [
    "# Describe the data set:\n",
    "\n",
    "df.describe()\n",
    "\n",
    "\n",
    "# This will show us some numerical and basic statistical variables of our data such as the average, the mean. the median etc. \n"
   ]
  },
  {
   "cell_type": "markdown",
   "metadata": {},
   "source": [
    "Let summarize the average values for each spieces: \n",
    "\n",
    "\n",
    "|Spiecies      |Bill Lenght (mm)|Bill Depth (mm)|Flipper Length (mm)|Body mass (g)|\n",
    "|-------------:|---------------:|--------------:|------------------:|------------:|\n",
    "|Adelie        |            38.8|           18.3|                190|         3701|\n",
    "|Chinstrap     |            48.8|           18.4|                196|         3733|\n",
    "|Gentoo        |            47.5|           15.0|                217|         5076|"
   ]
  },
  {
   "cell_type": "markdown",
   "metadata": {},
   "source": [
    "The similar analysis was done aleady by Allison Horst and I was reffering to the average values provided [here.](https://allisonhorst.github.io/palmerpenguins/)"
   ]
  },
  {
   "cell_type": "markdown",
   "metadata": {},
   "source": [
    "To summarize the above excercises, we downloaded the data (structured text file) in a csv file. \\\n",
    "By using [Pandas](https://pandas.pydata.org/) we were able to separate its values that was read character by character and presented to us in a structured way that is more user-friendly format. We could give an overview of the variables and data types that is in the dataset."
   ]
  },
  {
   "cell_type": "markdown",
   "metadata": {},
   "source": [
    "### Types of variables\n",
    "\n",
    "****\n",
    "*Task 03 of the assessment*\n",
    "*** \n",
    "\n",
    "When it comes to working on data and do my analysis in Python, I needed to learn about types of variables, qualitative and quantitative data, how does it look like and how I can use it.\n",
    "\n",
    "\n",
    "In Python, variables can hold values of different data types and different types can do different things. Here are some of the most common data types in Python that we can see in our dataset:\n",
    "\n",
    "1. **Integer (int)**: Represents whole numbers without any decimal points. \n",
    "- Example: \n",
    "\n",
    "    ```\n",
    "    x = 190\n",
    "    ```\n",
    "\n",
    "\n",
    "2. **Float (float)**: Represents floating-point numbers, which are numbers that have decimal points. \n",
    "- Example: \n",
    "\n",
    "    ```\n",
    "    y = 38.8\n",
    "    ```\n",
    "\n",
    "3. **String (str)**: Represents sequences of characters, enclosed within single quotes (') or double quotes (\"). \n",
    "- Example: \n",
    "\n",
    "    ```\n",
    "    spieces = \"Adelie\"\n",
    "    ```\n",
    "\n",
    "\n",
    "There are more types of variables such as *Lists*, *Tuples*, *Booleans* etc.! This knowledge I got from my modules, but there is a lot more info around! \\\n",
    "For more about types of variables, have a look [here.](https://www.w3schools.com/python/python_datatypes.asp)\n",
    "\n",
    "\n",
    "It is also important to understand the key differences between quantitative and qualitative data so that I can better match available analysis methods to achieve valuable results. \n",
    "\n",
    "**Quantitative data** is numbers-based, countable, or measurable:\n",
    "- Lenght\n",
    "- Height\n",
    "- Weight\n",
    "\n",
    "**Qualitative data** is interpretation-based, descriptive, and relating to observations:\n",
    "- Spieces\n",
    "- Sex (if it is represented as 'male' or 'female')\n",
    "- Island\n",
    "\n",
    "Quantitative data is analyzed using statistical analysis. Qualitative data is analyzed by grouping the data into categories and themes.\n",
    "For more information, have a look [here.](https://www.fullstory.com/blog/qualitative-vs-quantitative-data/#:~:text=Quantitative%20data%20is%20numbers%2Dbased,what%20happened%20behind%20certain%20behaviors.)\n",
    "\n",
    "\n",
    "\n"
   ]
  },
  {
   "cell_type": "markdown",
   "metadata": {},
   "source": [
    "For better understanding what we need to use for our analysis, let's see what *types* of variables are in this data set. This will help us to decide which variables should be used to model he variables in the data set in Python. \n",
    "\n",
    "\n",
    "\n",
    " Let's start with [*dtype()*](https://numpy.org/doc/stable/reference/arrays.dtypes.html) (data type). This is a function that is used to create/read a data type object."
   ]
  },
  {
   "cell_type": "code",
   "execution_count": 10,
   "metadata": {},
   "outputs": [
    {
     "name": "stdout",
     "output_type": "stream",
     "text": [
      "species               object\n",
      "island                object\n",
      "bill_length_mm       float64\n",
      "bill_depth_mm        float64\n",
      "flipper_length_mm    float64\n",
      "body_mass_g          float64\n",
      "sex                   object\n",
      "dtype: object\n"
     ]
    }
   ],
   "source": [
    "# Checking the types of variables in dataset\n",
    "\n",
    "column_types = df.dtypes\n",
    "print(column_types)\n"
   ]
  },
  {
   "cell_type": "markdown",
   "metadata": {},
   "source": [
    "By looking at the above table we can see that all the variables related to quantitative data are floats and the qualitative data are objects ([strings](https://runestone.academy/ns/books/published/StudentCSP/CSPNameStrings/strObjects.html)). \n",
    "\n",
    "Because our data contains different types of variables, we have a multiple options of how to model them. \n",
    "\n",
    "We cannot perform any mathematical calculation on *strings*. But as in our dataset we have floating-point numbers (floats), they are critical in use in data analystics for most accurate calculations. This is because they represents both small numbers and large numbers and we can use them in mathematical calculation with similar precision. However floats are limited in the number of bits that we can store with them.  See more information have a look on [builtin.com](https://builtin.com/data-science/how-to-use-make-float-in-python).\n",
    "\n",
    "\n"
   ]
  },
  {
   "cell_type": "markdown",
   "metadata": {},
   "source": [
    "### Let's visualise some data! \n",
    "****\n",
    "*Task 04 of the assesment*\n",
    "***\n"
   ]
  },
  {
   "cell_type": "markdown",
   "metadata": {},
   "source": [
    "To be able to work on numerical data and visualise them in Python I am importing another necessary libraries - [NumPy](https://numpy.org/) and [Myplotlib](https://matplotlib.org/stable/).\n",
    "\n",
    "NumPy is a fundamental package for numerical computing in Python. It provides support for large, multi-dimensional arrays and matrices, along with a collection of mathematical functions to operate on these arrays efficiently. NumPy is widely used in various fields such as mathematics, statistics and data science.\n",
    "\n",
    "Matplotlib and its module pyplot allows to work on mathematical calculations, array manipulations, creating plots and histograms. \n",
    "\n",
    "\n"
   ]
  },
  {
   "cell_type": "code",
   "execution_count": 11,
   "metadata": {},
   "outputs": [],
   "source": [
    "# Numerical arrays \n",
    "\n",
    "import numpy as np"
   ]
  },
  {
   "cell_type": "code",
   "execution_count": 12,
   "metadata": {},
   "outputs": [],
   "source": [
    "# Plotting\n",
    "import matplotlib.pyplot as plt\n",
    "\n",
    "# https://matplotlib.org/stable/api/_as_gen/matplotlib.pyplot.bar.html"
   ]
  },
  {
   "cell_type": "markdown",
   "metadata": {},
   "source": [
    "Our data can be visualised on many ways usging different types of graphs. For example, to plot one variable we would use a histogram and bar chart and if you want to to plot two variables you can use scatterplot and heatmaps.  "
   ]
  },
  {
   "cell_type": "markdown",
   "metadata": {},
   "source": [
    "**Bar charts and Histograms**\n",
    "***\n",
    "\n",
    "Altough bar charts and histograms are both types of visualizations used to represent the distribution of data, they are typically used for different types of variables and show us different types of information. Bar charts are suitable for categorical data, while histograms are suitable for continuous data.\n",
    "\n",
    "\n",
    "*I was reffering to the information from our modules and form [analyticsvidhya.com](https://www.analyticsvidhya.com/blog/2021/08/understanding-bar-plots-in-python-beginners-guide-to-data-visualization/#:~:text=Bar%20plots%20are%20a%20type,used%20to%20create%20bar%20plots.)*\n"
   ]
  },
  {
   "cell_type": "markdown",
   "metadata": {},
   "source": [
    "**Bar charts** are used to represent categorical data. It displays the frequency or count of each category in the dataset. The x-axis of a bar chart typically represents the categories or groups, while the y-axis represents the frequency or count. The bars are usually separated, with gaps between them and are useful for comparing the frequency or count of different categories.\n",
    "\n",
    "I was reffering to the information from my lectures, but more information can be found on [matplotlib.org](https://matplotlib.org/stable/api/_as_gen/matplotlib.pyplot.hist.html).\n",
    "\n",
    "\n"
   ]
  },
  {
   "cell_type": "markdown",
   "metadata": {},
   "source": [
    "\n",
    "**Let's picture some our Penguins data on histogram!**\n",
    "\n",
    "We will see now the number of Penguis of each species:"
   ]
  },
  {
   "cell_type": "code",
   "execution_count": 13,
   "metadata": {},
   "outputs": [
    {
     "data": {
      "text/plain": [
       "species\n",
       "Adelie       152\n",
       "Gentoo       124\n",
       "Chinstrap     68\n",
       "Name: count, dtype: int64"
      ]
     },
     "execution_count": 13,
     "metadata": {},
     "output_type": "execute_result"
    }
   ],
   "source": [
    "# Count of the number of penguins of each species and the data type:\n",
    "\n",
    "df[\"species\"].value_counts()"
   ]
  },
  {
   "cell_type": "markdown",
   "metadata": {},
   "source": [
    "As we can see on the above, the variable type is *integer* which is a positive, whole number so it is correct type for counting individual, living creatures. "
   ]
  },
  {
   "cell_type": "markdown",
   "metadata": {},
   "source": [
    "Now, we create the barplot:"
   ]
  },
  {
   "cell_type": "code",
   "execution_count": 38,
   "metadata": {},
   "outputs": [
    {
     "data": {
      "image/png": "[encoded data removed]",
      "text/plain": [
       "<Figure size 800x600 with 1 Axes>"
      ]
     },
     "metadata": {},
     "output_type": "display_data"
    }
   ],
   "source": [
    "\n",
    "# Setting the variable and using value counts to count them.\n",
    "sp_counts = df['species'].value_counts() \n",
    "\n",
    "# Create the bar chart\n",
    "plt.figure(figsize=(8, 6))  # Adjust the figure size as needed\n",
    "sp_counts.plot(kind='bar')\n",
    "\n",
    "# Add titles:\n",
    "plt.title('Number of Penguins of each species')\n",
    "plt.xlabel('Species')\n",
    "plt.ylabel('Count')\n",
    "\n",
    "\n",
    "# Rotate x-axis labels for better readability\n",
    "plt.xticks(rotation=45)\n",
    "\n",
    "# Add gridlines for y-axis  \n",
    "plt.grid(axis='y')\n",
    "\n",
    "# I want now to see the specific counts at the top of each bar: \n",
    "# I was reffering to: https://realpython.com/python-enumerate/\n",
    "for i, count in enumerate(sp_counts):\n",
    "    plt.text(i, count, str(count), ha='center', va='bottom')\n",
    "\n",
    " # Adjust layout to prevent overlapping labels  \n",
    "plt.tight_layout() \n",
    "\n",
    "# Let's see!\n",
    "plt.show()"
   ]
  },
  {
   "cell_type": "markdown",
   "metadata": {},
   "source": [
    "From the above bar chart, we can see that majority of the Penguins in our dataset belong to Adelie species, while the less number are Chinstraps. "
   ]
  },
  {
   "cell_type": "markdown",
   "metadata": {},
   "source": [
    "\n",
    "\n",
    "**Histograms** are used to represent the distribution of continuous data. The x-axis of a histogram represents the intervals or bins, while the y-axis represents the frequency or count of data points falling within each bin. The bars have no gaps between them to show the continuous nature of the data.\n",
    "\n",
    "I was reffering to the information from my lectures, however more information can be found on [matplotlib.org](https://matplotlib.org/stable/api/_as_gen/matplotlib.pyplot.hist.html)\n"
   ]
  },
  {
   "cell_type": "markdown",
   "metadata": {},
   "source": [
    "On our dataset we have a few variables that are measurements and represent continuous data:\n",
    "\n",
    "- **bill_length_mm**\n",
    "- **bill_depth_mm**\n",
    "- **flipper_length_mm**\n",
    "- **body_mass_g**\n",
    "\n",
    "Any of these variables would be suitable for creating a histogram!\n"
   ]
  },
  {
   "cell_type": "markdown",
   "metadata": {},
   "source": [
    "We will now visualise the distribution of our penguins weight (*body_mass_g*). This would help us to understand how our penguins weight is distributed across the population of penguins in our dataset."
   ]
  },
  {
   "cell_type": "code",
   "execution_count": 44,
   "metadata": {},
   "outputs": [
    {
     "data": {
      "text/plain": [
       "array([3750., 3800., 3250.,   nan, 3450., 3650., 3625., 4675., 3475.,\n",
       "       4250., 3300., 3700., 3200., 3800., 4400., 3700., 3450., 4500.,\n",
       "       3325., 4200., 3400., 3600., 3800., 3950., 3800., 3800., 3550.,\n",
       "       3200., 3150., 3950., 3250., 3900., 3300., 3900., 3325., 4150.,\n",
       "       3950., 3550., 3300., 4650., 3150., 3900., 3100., 4400., 3000.,\n",
       "       4600., 3425., 2975., 3450., 4150., 3500., 4300., 3450., 4050.,\n",
       "       2900., 3700., 3550., 3800., 2850., 3750., 3150., 4400., 3600.,\n",
       "       4050., 2850., 3950., 3350., 4100., 3050., 4450., 3600., 3900.,\n",
       "       3550., 4150., 3700., 4250., 3700., 3900., 3550., 4000., 3200.,\n",
       "       4700., 3800., 4200., 3350., 3550., 3800., 3500., 3950., 3600.,\n",
       "       3550., 4300., 3400., 4450., 3300., 4300., 3700., 4350., 2900.,\n",
       "       4100., 3725., 4725., 3075., 4250., 2925., 3550., 3750., 3900.,\n",
       "       3175., 4775., 3825., 4600., 3200., 4275., 3900., 4075., 2900.,\n",
       "       3775., 3350., 3325., 3150., 3500., 3450., 3875., 3050., 4000.,\n",
       "       3275., 4300., 3050., 4000., 3325., 3500., 3500., 4475., 3425.,\n",
       "       3900., 3175., 3975., 3400., 4250., 3400., 3475., 3050., 3725.,\n",
       "       3000., 3650., 4250., 3475., 3450., 3750., 3700., 4000., 3500.,\n",
       "       3900., 3650., 3525., 3725., 3950., 3250., 3750., 4150., 3700.,\n",
       "       3800., 3775., 3700., 4050., 3575., 4050., 3300., 3700., 3450.,\n",
       "       4400., 3600., 3400., 2900., 3800., 3300., 4150., 3400., 3800.,\n",
       "       3700., 4550., 3200., 4300., 3350., 4100., 3600., 3900., 3850.,\n",
       "       4800., 2700., 4500., 3950., 3650., 3550., 3500., 3675., 4450.,\n",
       "       3400., 4300., 3250., 3675., 3325., 3950., 3600., 4050., 3350.,\n",
       "       3450., 3250., 4050., 3800., 3525., 3950., 3650., 3650., 4000.,\n",
       "       3400., 3775., 4100., 3775., 4500., 5700., 4450., 5700., 5400.,\n",
       "       4550., 4800., 5200., 4400., 5150., 4650., 5550., 4650., 5850.,\n",
       "       4200., 5850., 4150., 6300., 4800., 5350., 5700., 5000., 4400.,\n",
       "       5050., 5000., 5100., 4100., 5650., 4600., 5550., 5250., 4700.,\n",
       "       5050., 6050., 5150., 5400., 4950., 5250., 4350., 5350., 3950.,\n",
       "       5700., 4300., 4750., 5550., 4900., 4200., 5400., 5100., 5300.,\n",
       "       4850., 5300., 4400., 5000., 4900., 5050., 4300., 5000., 4450.,\n",
       "       5550., 4200., 5300., 4400., 5650., 4700., 5700., 4650., 5800.,\n",
       "       4700., 5550., 4750., 5000., 5100., 5200., 4700., 5800., 4600.,\n",
       "       6000., 4750., 5950., 4625., 5450., 4725., 5350., 4750., 5600.,\n",
       "       4600., 5300., 4875., 5550., 4950., 5400., 4750., 5650., 4850.,\n",
       "       5200., 4925., 4875., 4625., 5250., 4850., 5600., 4975., 5500.,\n",
       "       4725., 5500., 4700., 5500., 4575., 5500., 5000., 5950., 4650.,\n",
       "       5500., 4375., 5850., 4875., 6000., 4925.,   nan, 4850., 5750.,\n",
       "       5200., 5400.])"
      ]
     },
     "execution_count": 44,
     "metadata": {},
     "output_type": "execute_result"
    }
   ],
   "source": [
    "weight = df['body_mass_g']\n",
    "\n",
    "weight = weight.to_numpy()\n",
    "\n",
    "weight\n"
   ]
  },
  {
   "cell_type": "code",
   "execution_count": 42,
   "metadata": {},
   "outputs": [
    {
     "data": {
      "image/png": "[encoded data removed]",
      "text/plain": [
       "<Figure size 640x480 with 1 Axes>"
      ]
     },
     "metadata": {},
     "output_type": "display_data"
    }
   ],
   "source": [
    "\n",
    "# 'bbody_mass_g' is the column containing weight of our penguins\n",
    "\n",
    "weight = df['body_mass_g']\n",
    "\n",
    "# Create the histogram\n",
    "plt.hist(weight, bins=40, color='pink', edgecolor='black')  # Adjust the number of bins as needed\n",
    "plt.xlabel('weight (g)')\n",
    "plt.ylabel('Frequency')\n",
    "plt.title('Histogram of Body Mass')\n",
    "plt.grid(True)\n",
    "\n",
    "plt.show()\n",
    "\n"
   ]
  },
  {
   "cell_type": "markdown",
   "metadata": {},
   "source": [
    "From the above histogram we can tell that most of our penguins have body mass between 3000 and 4000 grams."
   ]
  },
  {
   "cell_type": "markdown",
   "metadata": {},
   "source": [
    "### Even more analysis!\n",
    "\n",
    "***\n",
    "This is the Project for the assessment\n",
    "***"
   ]
  },
  {
   "cell_type": "markdown",
   "metadata": {},
   "source": [
    "Let's select now two variables from the data set and provide an analysis of how correlated they are."
   ]
  },
  {
   "cell_type": "code",
   "execution_count": null,
   "metadata": {},
   "outputs": [],
   "source": []
  },
  {
   "cell_type": "code",
   "execution_count": null,
   "metadata": {},
   "outputs": [],
   "source": []
  },
  {
   "cell_type": "code",
   "execution_count": null,
   "metadata": {},
   "outputs": [],
   "source": []
  },
  {
   "cell_type": "code",
   "execution_count": null,
   "metadata": {},
   "outputs": [],
   "source": []
  },
  {
   "cell_type": "code",
   "execution_count": null,
   "metadata": {},
   "outputs": [
    {
     "name": "stdout",
     "output_type": "stream",
     "text": [
      "0      181.0\n",
      "1      186.0\n",
      "2      195.0\n",
      "3        NaN\n",
      "4      193.0\n",
      "       ...  \n",
      "339      NaN\n",
      "340    215.0\n",
      "341    222.0\n",
      "342    212.0\n",
      "343    213.0\n",
      "Name: flipper_length_mm, Length: 344, dtype: float64\n",
      "<class 'pandas.core.series.Series'>\n"
     ]
    }
   ],
   "source": [
    "\n",
    "flip_len = df ['flipper_length_mm']\n",
    "\n",
    "# Show \n",
    "\n",
    "print (flip_len)\n",
    "\n",
    "# Type \n",
    "\n",
    "print(type(flip_len))\n"
   ]
  },
  {
   "cell_type": "code",
   "execution_count": null,
   "metadata": {},
   "outputs": [],
   "source": []
  },
  {
   "cell_type": "code",
   "execution_count": null,
   "metadata": {},
   "outputs": [],
   "source": []
  },
  {
   "cell_type": "code",
   "execution_count": null,
   "metadata": {},
   "outputs": [],
   "source": []
  },
  {
   "cell_type": "code",
   "execution_count": null,
   "metadata": {},
   "outputs": [],
   "source": []
  },
  {
   "cell_type": "code",
   "execution_count": null,
   "metadata": {},
   "outputs": [],
   "source": []
  },
  {
   "cell_type": "code",
   "execution_count": null,
   "metadata": {},
   "outputs": [],
   "source": []
  },
  {
   "cell_type": "code",
   "execution_count": null,
   "metadata": {},
   "outputs": [],
   "source": []
  },
  {
   "cell_type": "code",
   "execution_count": null,
   "metadata": {},
   "outputs": [],
   "source": []
  },
  {
   "cell_type": "code",
   "execution_count": null,
   "metadata": {},
   "outputs": [
    {
     "data": {
      "text/plain": [
       "array([181., 186., 195.,  nan, 193., 190., 181., 195., 193., 190., 186.,\n",
       "       180., 182., 191., 198., 185., 195., 197., 184., 194., 174., 180.,\n",
       "       189., 185., 180., 187., 183., 187., 172., 180., 178., 178., 188.,\n",
       "       184., 195., 196., 190., 180., 181., 184., 182., 195., 186., 196.,\n",
       "       185., 190., 182., 179., 190., 191., 186., 188., 190., 200., 187.,\n",
       "       191., 186., 193., 181., 194., 185., 195., 185., 192., 184., 192.,\n",
       "       195., 188., 190., 198., 190., 190., 196., 197., 190., 195., 191.,\n",
       "       184., 187., 195., 189., 196., 187., 193., 191., 194., 190., 189.,\n",
       "       189., 190., 202., 205., 185., 186., 187., 208., 190., 196., 178.,\n",
       "       192., 192., 203., 183., 190., 193., 184., 199., 190., 181., 197.,\n",
       "       198., 191., 193., 197., 191., 196., 188., 199., 189., 189., 187.,\n",
       "       198., 176., 202., 186., 199., 191., 195., 191., 210., 190., 197.,\n",
       "       193., 199., 187., 190., 191., 200., 185., 193., 193., 187., 188.,\n",
       "       190., 192., 185., 190., 184., 195., 193., 187., 201., 192., 196.,\n",
       "       193., 188., 197., 198., 178., 197., 195., 198., 193., 194., 185.,\n",
       "       201., 190., 201., 197., 181., 190., 195., 181., 191., 187., 193.,\n",
       "       195., 197., 200., 200., 191., 205., 187., 201., 187., 203., 195.,\n",
       "       199., 195., 210., 192., 205., 210., 187., 196., 196., 196., 201.,\n",
       "       190., 212., 187., 198., 199., 201., 193., 203., 187., 197., 191.,\n",
       "       203., 202., 194., 206., 189., 195., 207., 202., 193., 210., 198.,\n",
       "       211., 230., 210., 218., 215., 210., 211., 219., 209., 215., 214.,\n",
       "       216., 214., 213., 210., 217., 210., 221., 209., 222., 218., 215.,\n",
       "       213., 215., 215., 215., 216., 215., 210., 220., 222., 209., 207.,\n",
       "       230., 220., 220., 213., 219., 208., 208., 208., 225., 210., 216.,\n",
       "       222., 217., 210., 225., 213., 215., 210., 220., 210., 225., 217.,\n",
       "       220., 208., 220., 208., 224., 208., 221., 214., 231., 219., 230.,\n",
       "       214., 229., 220., 223., 216., 221., 221., 217., 216., 230., 209.,\n",
       "       220., 215., 223., 212., 221., 212., 224., 212., 228., 218., 218.,\n",
       "       212., 230., 218., 228., 212., 224., 214., 226., 216., 222., 203.,\n",
       "       225., 219., 228., 215., 228., 216., 215., 210., 219., 208., 209.,\n",
       "       216., 229., 213., 230., 217., 230., 217., 222., 214.,  nan, 215.,\n",
       "       222., 212., 213.])"
      ]
     },
     "execution_count": 23,
     "metadata": {},
     "output_type": "execute_result"
    }
   ],
   "source": [
    "# Just get the numpy array\n",
    "\n",
    "flip_len = flip_len.to_numpy()\n",
    "\n",
    "# Show\n",
    "\n",
    "flip_len"
   ]
  },
  {
   "cell_type": "code",
   "execution_count": null,
   "metadata": {},
   "outputs": [
    {
     "name": "stdout",
     "output_type": "stream",
     "text": [
      "0      181.0\n",
      "1      186.0\n",
      "2      195.0\n",
      "3        NaN\n",
      "4      193.0\n",
      "       ...  \n",
      "339      NaN\n",
      "340    215.0\n",
      "341    222.0\n",
      "342    212.0\n",
      "343    213.0\n",
      "Name: flipper_length_mm, Length: 344, dtype: float64\n",
      "<class 'pandas.core.series.Series'>\n"
     ]
    }
   ],
   "source": [
    "# Get just the flipper lenght.\n",
    "flipper_length_mm = df ['flipper_length_mm']\n",
    "\n",
    "# Show\n",
    "print (flipper_length_mm)\n",
    "\n",
    "# Type\n",
    "print(type(flipper_length_mm))"
   ]
  },
  {
   "cell_type": "code",
   "execution_count": null,
   "metadata": {},
   "outputs": [
    {
     "name": "stdout",
     "output_type": "stream",
     "text": [
      "0      181.0\n",
      "1      186.0\n",
      "2      195.0\n",
      "3        NaN\n",
      "4      193.0\n",
      "       ...  \n",
      "339      NaN\n",
      "340    215.0\n",
      "341    222.0\n",
      "342    212.0\n",
      "343    213.0\n",
      "Name: flipper_length_mm, Length: 344, dtype: float64\n",
      "<class 'pandas.core.series.Series'>\n"
     ]
    }
   ],
   "source": [
    "# Get just the flipper lenght.\n",
    "flipper_length_mm = df ['flipper_length_mm']\n",
    "\n",
    "# Show\n",
    "print (flipper_length_mm)\n",
    "\n",
    "# Type\n",
    "print(type(flipper_length_mm))"
   ]
  },
  {
   "cell_type": "code",
   "execution_count": null,
   "metadata": {},
   "outputs": [
    {
     "data": {
      "text/plain": [
       "0      3750.0\n",
       "1      3800.0\n",
       "2      3250.0\n",
       "3         NaN\n",
       "4      3450.0\n",
       "        ...  \n",
       "339       NaN\n",
       "340    4850.0\n",
       "341    5750.0\n",
       "342    5200.0\n",
       "343    5400.0\n",
       "Name: body_mass_g, Length: 344, dtype: float64"
      ]
     },
     "execution_count": 16,
     "metadata": {},
     "output_type": "execute_result"
    }
   ],
   "source": [
    "# Just get the numpy array.\n",
    "\n",
    "body_mass_g = df ['body_mass_g']\n",
    "\n",
    "body_mass_g.to_numpy()\n",
    "\n",
    "# Show\n",
    "\n",
    "body_mass_g"
   ]
  },
  {
   "cell_type": "markdown",
   "metadata": {},
   "source": [
    "### What we will use to model the variables\n",
    "\n"
   ]
  },
  {
   "cell_type": "code",
   "execution_count": null,
   "metadata": {},
   "outputs": [
    {
     "data": {
      "text/plain": [
       "(2500.0, 6500.0)"
      ]
     },
     "execution_count": 17,
     "metadata": {},
     "output_type": "execute_result"
    },
    {
     "data": {
      "image/png": "[encoded data removed]",
      "text/plain": [
       "<Figure size 640x480 with 1 Axes>"
      ]
     },
     "metadata": {},
     "output_type": "display_data"
    }
   ],
   "source": [
    "# Simple plot (stateful)\n",
    "\n",
    "plt.plot(flipper_length_mm, body_mass_g, 'o') # 3rd parameter - plot them as Xs, os X, Y\n",
    "\n",
    "# Axis labels.\n",
    "\n",
    "plt.xlabel('Flipper Lenght (cm)')\n",
    "plt.ylabel('Body mass (g)')\n",
    "\n",
    "# Title\n",
    "\n",
    "plt.title('Flipper vs body')\n",
    "\n",
    "# X limits\n",
    "plt.xlim (160, 235)\n",
    "plt.ylim (2500,6500)"
   ]
  },
  {
   "cell_type": "markdown",
   "metadata": {},
   "source": [
    "## Add best fit line"
   ]
  },
  {
   "cell_type": "code",
   "execution_count": null,
   "metadata": {},
   "outputs": [],
   "source": [
    "## for math, add '$' before and after "
   ]
  },
  {
   "cell_type": "markdown",
   "metadata": {},
   "source": [
    "$y  = mx + c = p_1 x^1 + p_0 = p_1 x + p_0 $"
   ]
  },
  {
   "cell_type": "code",
   "execution_count": null,
   "metadata": {},
   "outputs": [
    {
     "data": {
      "text/plain": [
       "(0.0, 6500.0)"
      ]
     },
     "execution_count": 19,
     "metadata": {},
     "output_type": "execute_result"
    },
    {
     "data": {
      "image/png": "[encoded data removed]",
      "text/plain": [
       "<Figure size 640x480 with 1 Axes>"
      ]
     },
     "metadata": {},
     "output_type": "display_data"
    }
   ],
   "source": [
    "import numpy as np\n",
    "\n",
    "# Simple plot (seamless - recommended)\n",
    "\n",
    "# Create a new figure and set of axes:\n",
    "\n",
    "fig, ax = plt.subplots () # rows, columns\n",
    "\n",
    "# Simple plot\n",
    "\n",
    "ax.plot(flipper_length_mm, body_mass_g, 'x') # 3rd parameter - plot them as Xs, os X, Y\n",
    "\n",
    "# Axis labels.\n",
    "\n",
    "ax.set_xlabel('Flipper Lenght (mm)')\n",
    "ax.set_ylabel('Body mass (g)')\n",
    "\n",
    "# Title\n",
    "\n",
    "ax.set_title('Flipper vs body')\n",
    "\n",
    "# X limits\n",
    "ax.set_xlim (0,300)\n",
    "\n",
    "# Y limits\n",
    "ax.set_ylim (0, 6500)\n"
   ]
  },
  {
   "cell_type": "code",
   "execution_count": null,
   "metadata": {},
   "outputs": [
    {
     "ename": "NameError",
     "evalue": "name 'penguins' is not defined",
     "output_type": "error",
     "traceback": [
      "\u001b[1;31m---------------------------------------------------------------------------\u001b[0m",
      "\u001b[1;31mNameError\u001b[0m                                 Traceback (most recent call last)",
      "Cell \u001b[1;32mIn[20], line 1\u001b[0m\n\u001b[1;32m----> 1\u001b[0m corr_penguins \u001b[38;5;241m=\u001b[39m penguins\u001b[38;5;241m.\u001b[39mcorr(method\u001b[38;5;241m=\u001b[39m\u001b[38;5;124m'\u001b[39m\u001b[38;5;124mpearson\u001b[39m\u001b[38;5;124m'\u001b[39m, numeric_only\u001b[38;5;241m=\u001b[39m\u001b[38;5;28;01mTrue\u001b[39;00m)\n\u001b[0;32m      2\u001b[0m corr_adelie \u001b[38;5;241m=\u001b[39m adelie\u001b[38;5;241m.\u001b[39mcorr(method\u001b[38;5;241m=\u001b[39m\u001b[38;5;124m'\u001b[39m\u001b[38;5;124mpearson\u001b[39m\u001b[38;5;124m'\u001b[39m, numeric_only\u001b[38;5;241m=\u001b[39m\u001b[38;5;28;01mTrue\u001b[39;00m)\n\u001b[0;32m      3\u001b[0m corr_chinstrap \u001b[38;5;241m=\u001b[39m chinstrap\u001b[38;5;241m.\u001b[39mcorr(method\u001b[38;5;241m=\u001b[39m\u001b[38;5;124m'\u001b[39m\u001b[38;5;124mpearson\u001b[39m\u001b[38;5;124m'\u001b[39m, numeric_only\u001b[38;5;241m=\u001b[39m\u001b[38;5;28;01mTrue\u001b[39;00m)\n",
      "\u001b[1;31mNameError\u001b[0m: name 'penguins' is not defined"
     ]
    }
   ],
   "source": [
    "corr_penguins = penguins.corr(method='pearson', numeric_only=True)\n",
    "corr_adelie = adelie.corr(method='pearson', numeric_only=True)\n",
    "corr_chinstrap = chinstrap.corr(method='pearson', numeric_only=True)\n",
    "corr_gentoo = gentoo.corr(method='pearson', numeric_only=True)\n",
    "\n",
    "# Create the plot framework for the invididual heatmaps. The y-axis will be shared.\n",
    "fig, axes = plt.subplots(nrows=1, ncols=4, figsize=(12,6), sharey='row')\n",
    "# Draw 4 sub-plots for penguins overall, and for each species - set the titles accordingly.\n",
    "# Set the same min and max so the colour bar will be common, and disable it on 3 plots.\n",
    "# Reference [c2].\n",
    "sns.heatmap(corr_penguins, annot=True, fmt=\".2f\", linewidth=.5, ax=axes[0], vmin=-1, vmax=1, cbar=False)\n",
    "axes[0].set_title(\"Penguins\")\n",
    "sns.heatmap(corr_adelie, annot=True, fmt=\".2f\", linewidth=.5, ax=axes[1], vmin=-1, vmax=1, cbar=False)\n",
    "axes[1].set_title(\"Adelie\")\n",
    "sns.heatmap(corr_chinstrap, annot=True, fmt=\".2f\", linewidth=.5, ax=axes[2], vmin=-1, vmax=1, cbar=False)\n",
    "axes[2].set_title(\"Chinstrap\")\n",
    "sns.heatmap(corr_gentoo, annot=True, fmt=\".2f\", linewidth=.5, ax=axes[3], vmin=-1, vmax=1, cbar=True)\n",
    "axes[3].set_title(\"Gentoo\")\n",
    "\n",
    "for i in range(4):\n",
    "    axes[i].set_xticks([0.5,1.5,2.5,3.5], labels=['bill_len', 'bill_dpth', 'flpr_len', 'mass'])\n",
    "    axes[i].xaxis.set_tick_params(rotation=45, labelsize=9)\n",
    "    axes[i].set_yticks([0.5,1.5,2.5,3.5], labels=['bill_len', 'bill_dpth', 'flpr_len', 'mass'])\n",
    "    axes[i].yaxis.set_tick_params(rotation=0, labelsize=9)\n",
    "fig.subplots_adjust(top = 0.9)\n",
    "fig.suptitle(\"Figure 8 - Pairwise Attribute Correlation Heatmaps, Overall and per Species\", fontsize=12)"
   ]
  },
  {
   "cell_type": "code",
   "execution_count": 39,
   "metadata": {},
   "outputs": [
    {
     "data": {
      "image/png": "[encoded data removed]",
      "text/plain": [
       "<Figure size 640x480 with 1 Axes>"
      ]
     },
     "metadata": {},
     "output_type": "display_data"
    }
   ],
   "source": [
    "import matplotlib.pyplot as plt\n",
    "import numpy as np\n",
    "\n",
    "species = (\"Adelie\", \"Chinstrap\", \"Gentoo\")\n",
    "penguin_means = {\n",
    "    'Bill Depth': (18.35, 18.43, 14.98),\n",
    "    'Bill Length': (38.79, 48.83, 47.50),\n",
    "    'Flipper Length': (189.95, 195.82, 217.19),\n",
    "}\n",
    "\n",
    "x = np.arange(len(species))  # the label locations\n",
    "\n",
    "width = 0.25  # the width of the bars\n",
    "\n",
    "multiplier = 0\n",
    "\n",
    "fig, ax = plt.subplots(layout='constrained')\n",
    "\n",
    "for attribute, measurement in penguin_means.items():\n",
    "    offset = width * multiplier\n",
    "    rects = ax.bar(x + offset, measurement, width, label=attribute)\n",
    "    ax.bar_label(rects, padding=3)\n",
    "    multiplier += 1\n",
    "\n",
    "# Add some text for labels, title and custom x-axis tick labels, etc.\n",
    "ax.set_ylabel('Length (mm)')\n",
    "ax.set_title('Penguin attributes by species')\n",
    "ax.set_xticks(x + width, species)\n",
    "ax.legend(loc='upper left', ncols=3)\n",
    "ax.set_ylim(0, 250)\n",
    "\n",
    "plt.show()"
   ]
  },
  {
   "cell_type": "markdown",
   "metadata": {},
   "source": [
    "I was reffering to the code provided on [matplotlib](https://matplotlib.org/stable/gallery/lines_bars_and_markers/barchart.html#sphx-glr-gallery-lines-bars-and-markers-barchart-py)"
   ]
  },
  {
   "cell_type": "markdown",
   "metadata": {},
   "source": [
    "How to center text and centre the picture: https://stackoverflow.com/questions/46439874/display-image-jupyter-notebook-aligned-centre\n",
    "How to Superscript text: https://www.w3schools.com/tags/tag_sup.asp\n",
    "\n",
    "https://developer.mozilla.org/en-US/docs/MDN/Writing_guidelines/Howto/Markdown_in_MDN\n",
    "https://developer.mozilla.org/en-US/docs/Learn/HTML/Introduction_to_HTML/Getting_started\n",
    "\n"
   ]
  },
  {
   "cell_type": "markdown",
   "metadata": {},
   "source": [
    "***\n",
    "\n",
    "### End"
   ]
  }
 ],
 "metadata": {
  "kernelspec": {
   "display_name": "base",
   "language": "python",
   "name": "python3"
  },
  "language_info": {
   "codemirror_mode": {
    "name": "ipython",
    "version": 3
   },
   "file_extension": ".py",
   "mimetype": "text/x-python",
   "name": "python",
   "nbconvert_exporter": "python",
   "pygments_lexer": "ipython3",
   "version": "3.11.5"
  }
 },
 "nbformat": 4,
 "nbformat_minor": 2
}
