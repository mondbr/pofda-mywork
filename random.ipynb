{
 "cells": [
  {
   "cell_type": "markdown",
   "metadata": {},
   "source": [
    "# Random numbers\n",
    "\n",
    "****\n"
   ]
  },
  {
   "cell_type": "markdown",
   "metadata": {},
   "source": [
    " ### Prequisites\n",
    "\n",
    " https://numpy.org/doc/stable/reference/random/index.html"
   ]
  },
  {
   "cell_type": "code",
   "execution_count": 1,
   "metadata": {},
   "outputs": [],
   "source": [
    "# Numercial arrays and random numbers.\n",
    "import numpy as np\n",
    "\n",
    "# Plot. \n",
    "import matplotlib.pyplot as plt\n"
   ]
  },
  {
   "cell_type": "markdown",
   "metadata": {},
   "source": [
    "### Generate Random Integers\n",
    "\n",
    "***"
   ]
  },
  {
   "cell_type": "code",
   "execution_count": 2,
   "metadata": {},
   "outputs": [],
   "source": [
    "rng = np.random.default_rng()\n"
   ]
  },
  {
   "cell_type": "code",
   "execution_count": 3,
   "metadata": {},
   "outputs": [
    {
     "data": {
      "text/plain": [
       "0.8293542633333671"
      ]
     },
     "execution_count": 3,
     "metadata": {},
     "output_type": "execute_result"
    }
   ],
   "source": [
    " # Generate one random float uniformly distributed over the range [0, 1)\n",
    "rng.random()  \n",
    "\n"
   ]
  },
  {
   "cell_type": "code",
   "execution_count": 4,
   "metadata": {},
   "outputs": [
    {
     "data": {
      "text/plain": [
       "0.06369197489564249"
      ]
     },
     "execution_count": 4,
     "metadata": {},
     "output_type": "execute_result"
    }
   ],
   "source": [
    "\n",
    "0.06369197489564249  # may vary\n"
   ]
  },
  {
   "cell_type": "code",
   "execution_count": 5,
   "metadata": {},
   "outputs": [
    {
     "data": {
      "text/plain": [
       "array([ 1.50006032,  0.56694551,  0.87663884, -1.65772105,  0.65978585,\n",
       "        0.32842744, -1.24576831,  0.23797976, -0.63893587, -1.42304944])"
      ]
     },
     "execution_count": 5,
     "metadata": {},
     "output_type": "execute_result"
    }
   ],
   "source": [
    "# Generate an array of 10 numbers according to a unit Gaussian distribution.\n",
    "rng.standard_normal(10)  # Draw samples from a standard Normal distribution (mean=0, stdev=1). \n",
    "                         # https://numpy.org/doc/stable/reference/random/generator.html#numpy.random.Generator"
   ]
  },
  {
   "cell_type": "code",
   "execution_count": 6,
   "metadata": {},
   "outputs": [
    {
     "data": {
      "text/plain": [
       "array([4, 6, 0, 4, 2, 8, 7, 7, 3, 9, 2, 1, 6, 2, 4, 9, 6, 3, 6, 3, 9, 0,\n",
       "       3, 0, 4, 4, 8, 3, 2, 0, 5, 6, 9, 4, 0, 2, 3, 1, 3, 5, 8, 8, 3, 8,\n",
       "       0, 1, 0, 9, 6, 4, 3, 0, 7, 5, 8, 9, 4, 1, 8, 5, 4, 7, 5, 8, 2, 2,\n",
       "       0, 3, 2, 3, 9, 2, 0, 9, 8, 0, 3, 3, 9, 4, 7, 9, 9, 3, 2, 1, 5, 7,\n",
       "       3, 6], dtype=int64)"
      ]
     },
     "execution_count": 6,
     "metadata": {},
     "output_type": "execute_result"
    }
   ],
   "source": [
    "rng.integers(low=0, high=10, size=90)  "
   ]
  },
  {
   "cell_type": "code",
   "execution_count": 7,
   "metadata": {},
   "outputs": [
    {
     "data": {
      "text/plain": [
       "array([4, 2, 7, ..., 1, 7, 2], dtype=int64)"
      ]
     },
     "execution_count": 7,
     "metadata": {},
     "output_type": "execute_result"
    }
   ],
   "source": [
    "# Generate 10,000 integers uniformly over the range [0,10).\n",
    "\n",
    "x = rng.integers(low=0, high=10, size=10000, endpoint=True) # inclusive is optional, by this, you will include 10. \n",
    "\n",
    "# Show x. \n",
    "\n",
    "x"
   ]
  },
  {
   "cell_type": "code",
   "execution_count": 8,
   "metadata": {},
   "outputs": [
    {
     "data": {
      "text/plain": [
       "(array([ 0,  1,  2,  3,  4,  5,  6,  7,  8,  9, 10], dtype=int64),\n",
       " array([936, 867, 866, 908, 945, 903, 882, 941, 908, 913, 931], dtype=int64))"
      ]
     },
     "execution_count": 8,
     "metadata": {},
     "output_type": "execute_result"
    }
   ],
   "source": [
    "# Get the counts.\n",
    "\n",
    "values, counts = np.unique(x, return_counts=True)\n",
    "\n",
    "# Show:\n",
    "values, counts"
   ]
  },
  {
   "cell_type": "code",
   "execution_count": 9,
   "metadata": {},
   "outputs": [
    {
     "data": {
      "text/plain": [
       "<BarContainer object of 11 artists>"
      ]
     },
     "execution_count": 9,
     "metadata": {},
     "output_type": "execute_result"
    },
    {
     "data": {
      "image/png": "[encoded data removed]",
      "text/plain": [
       "<Figure size 640x480 with 1 Axes>"
      ]
     },
     "metadata": {},
     "output_type": "display_data"
    }
   ],
   "source": [
    "# Plot the barchart:\n",
    "\n",
    "plt.bar(values, counts)"
   ]
  },
  {
   "cell_type": "markdown",
   "metadata": {},
   "source": [
    "## Uniform Distribution\n",
    "***\n"
   ]
  },
  {
   "cell_type": "code",
   "execution_count": 10,
   "metadata": {},
   "outputs": [
    {
     "data": {
      "text/plain": [
       "array([8.86651425, 5.47800364, 8.35978951, 4.57281126, 0.53986248,\n",
       "       7.65562887, 5.32154214, 1.22529271, 1.78014642, 1.08116625,\n",
       "       4.31587704, 5.99850758, 1.38376145, 8.65650168, 7.818608  ,\n",
       "       7.66686689, 7.83405438, 1.65252622, 1.28135684, 2.74427364,\n",
       "       8.21785923, 6.29420807, 8.85934663, 1.03591483, 0.42625253,\n",
       "       7.05727309, 4.76465215, 4.7567392 , 6.06284552, 8.47889258,\n",
       "       5.85868332, 4.1230701 , 8.55555468, 9.84845276, 7.41762889,\n",
       "       3.66732341, 6.67669509, 4.98535113, 8.58635818, 2.03421565,\n",
       "       9.18835463, 6.1082338 , 5.73659927, 0.63276198, 2.36627793,\n",
       "       1.40792469, 8.52867176, 9.10952962, 3.34333556, 5.73844225,\n",
       "       4.53682171, 7.80635602, 2.88087881, 9.83444027, 3.53442019,\n",
       "       9.32228477, 7.41423785, 4.0495382 , 3.46380511, 3.03427113,\n",
       "       1.21996549, 1.41380892, 4.30856312, 5.61405619, 2.58431417,\n",
       "       8.93005214, 9.52618179, 7.19716002, 4.65938999, 1.31299464,\n",
       "       4.32971774, 2.06250559, 7.73547044, 3.43017311, 3.66417704,\n",
       "       7.05210298, 6.44921332, 5.96382511, 3.097085  , 6.61602828,\n",
       "       8.91644458, 5.31862182, 2.42671168, 7.04039551, 9.7343448 ,\n",
       "       2.60590584, 0.18683011, 7.19649821, 7.77120788, 2.58578723,\n",
       "       4.46877266, 6.87363436, 1.86361423, 8.77660583, 6.38239966,\n",
       "       6.38887404, 9.09956397, 3.415687  , 6.74319584, 0.56408956])"
      ]
     },
     "execution_count": 10,
     "metadata": {},
     "output_type": "execute_result"
    }
   ],
   "source": [
    "# Generate 100 floats uniformly distributed over the range [0, 10).\n",
    "\n",
    "x = rng.uniform(low=0.0, high=10.0, size=100)\n",
    "\n",
    "# Show:\n",
    "\n",
    "x "
   ]
  },
  {
   "cell_type": "code",
   "execution_count": 11,
   "metadata": {},
   "outputs": [
    {
     "data": {
      "text/plain": [
       "(array([0.18683011, 0.42625253, 0.53986248, 0.56408956, 0.63276198,\n",
       "        1.03591483, 1.08116625, 1.21996549, 1.22529271, 1.28135684,\n",
       "        1.31299464, 1.38376145, 1.40792469, 1.41380892, 1.65252622,\n",
       "        1.78014642, 1.86361423, 2.03421565, 2.06250559, 2.36627793,\n",
       "        2.42671168, 2.58431417, 2.58578723, 2.60590584, 2.74427364,\n",
       "        2.88087881, 3.03427113, 3.097085  , 3.34333556, 3.415687  ,\n",
       "        3.43017311, 3.46380511, 3.53442019, 3.66417704, 3.66732341,\n",
       "        4.0495382 , 4.1230701 , 4.30856312, 4.31587704, 4.32971774,\n",
       "        4.46877266, 4.53682171, 4.57281126, 4.65938999, 4.7567392 ,\n",
       "        4.76465215, 4.98535113, 5.31862182, 5.32154214, 5.47800364,\n",
       "        5.61405619, 5.73659927, 5.73844225, 5.85868332, 5.96382511,\n",
       "        5.99850758, 6.06284552, 6.1082338 , 6.29420807, 6.38239966,\n",
       "        6.38887404, 6.44921332, 6.61602828, 6.67669509, 6.74319584,\n",
       "        6.87363436, 7.04039551, 7.05210298, 7.05727309, 7.19649821,\n",
       "        7.19716002, 7.41423785, 7.41762889, 7.65562887, 7.66686689,\n",
       "        7.73547044, 7.77120788, 7.80635602, 7.818608  , 7.83405438,\n",
       "        8.21785923, 8.35978951, 8.47889258, 8.52867176, 8.55555468,\n",
       "        8.58635818, 8.65650168, 8.77660583, 8.85934663, 8.86651425,\n",
       "        8.91644458, 8.93005214, 9.09956397, 9.10952962, 9.18835463,\n",
       "        9.32228477, 9.52618179, 9.7343448 , 9.83444027, 9.84845276]),\n",
       " array([1, 1, 1, 1, 1, 1, 1, 1, 1, 1, 1, 1, 1, 1, 1, 1, 1, 1, 1, 1, 1, 1,\n",
       "        1, 1, 1, 1, 1, 1, 1, 1, 1, 1, 1, 1, 1, 1, 1, 1, 1, 1, 1, 1, 1, 1,\n",
       "        1, 1, 1, 1, 1, 1, 1, 1, 1, 1, 1, 1, 1, 1, 1, 1, 1, 1, 1, 1, 1, 1,\n",
       "        1, 1, 1, 1, 1, 1, 1, 1, 1, 1, 1, 1, 1, 1, 1, 1, 1, 1, 1, 1, 1, 1,\n",
       "        1, 1, 1, 1, 1, 1, 1, 1, 1, 1, 1, 1], dtype=int64),\n",
       " 100,\n",
       " 100)"
      ]
     },
     "execution_count": 11,
     "metadata": {},
     "output_type": "execute_result"
    }
   ],
   "source": [
    "# Get the counts.\n",
    "\n",
    "values, counts = np.unique(x, return_counts=True)\n",
    "\n",
    "# Show:\n",
    "values, counts, values.size, counts.size"
   ]
  },
  {
   "cell_type": "code",
   "execution_count": 12,
   "metadata": {},
   "outputs": [
    {
     "data": {
      "text/plain": [
       "<BarContainer object of 100 artists>"
      ]
     },
     "execution_count": 12,
     "metadata": {},
     "output_type": "execute_result"
    },
    {
     "data": {
      "image/png": "[encoded data removed]",
      "text/plain": [
       "<Figure size 640x480 with 1 Axes>"
      ]
     },
     "metadata": {},
     "output_type": "display_data"
    }
   ],
   "source": [
    "# Plot the barchart:\n",
    "\n",
    "plt.bar(values, counts, edgecolor=\"black\")"
   ]
  },
  {
   "cell_type": "code",
   "execution_count": 13,
   "metadata": {},
   "outputs": [
    {
     "data": {
      "text/plain": [
       "(array([ 0.,  1.,  2.,  3.,  4.,  5.,  6.,  7.,  8.,  9., 10.]),\n",
       " array([ 2, 12,  7, 11,  9,  9, 12, 11, 10, 13,  4], dtype=int64),\n",
       " 11,\n",
       " 11)"
      ]
     },
     "execution_count": 13,
     "metadata": {},
     "output_type": "execute_result"
    }
   ],
   "source": [
    "# Round values in x.\n",
    "x_rounded = np.round(x, decimals=0)\n",
    "\n",
    "# Get the counts.\n",
    "\n",
    "values, counts = np.unique(x_rounded, return_counts=True)\n",
    "\n",
    "# Show:\n",
    "values, counts, values.size, counts.size"
   ]
  },
  {
   "cell_type": "code",
   "execution_count": 14,
   "metadata": {},
   "outputs": [
    {
     "data": {
      "text/plain": [
       "<BarContainer object of 11 artists>"
      ]
     },
     "execution_count": 14,
     "metadata": {},
     "output_type": "execute_result"
    },
    {
     "data": {
      "image/png": "[encoded data removed]",
      "text/plain": [
       "<Figure size 640x480 with 1 Axes>"
      ]
     },
     "metadata": {},
     "output_type": "display_data"
    }
   ],
   "source": [
    "# Plot the barchart:\n",
    "\n",
    "plt.bar(values, counts, edgecolor=\"black\")"
   ]
  },
  {
   "cell_type": "code",
   "execution_count": null,
   "metadata": {},
   "outputs": [],
   "source": []
  },
  {
   "cell_type": "code",
   "execution_count": null,
   "metadata": {},
   "outputs": [],
   "source": []
  },
  {
   "cell_type": "markdown",
   "metadata": {},
   "source": [
    "### END\n",
    "\n",
    "***"
   ]
  }
 ],
 "metadata": {
  "kernelspec": {
   "display_name": "base",
   "language": "python",
   "name": "python3"
  },
  "language_info": {
   "codemirror_mode": {
    "name": "ipython",
    "version": 3
   },
   "file_extension": ".py",
   "mimetype": "text/x-python",
   "name": "python",
   "nbconvert_exporter": "python",
   "pygments_lexer": "ipython3",
   "version": "3.11.5"
  }
 },
 "nbformat": 4,
 "nbformat_minor": 2
}
