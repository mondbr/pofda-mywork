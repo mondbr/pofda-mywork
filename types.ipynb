{
 "cells": [
  {
   "cell_type": "markdown",
   "metadata": {},
   "source": [
    "Types\n",
    "\n",
    "***"
   ]
  },
  {
   "cell_type": "code",
   "execution_count": 1,
   "metadata": {},
   "outputs": [
    {
     "data": {
      "text/plain": [
       "0.5"
      ]
     },
     "execution_count": 1,
     "metadata": {},
     "output_type": "execute_result"
    }
   ],
   "source": [
    "15 / (5 * 6)\n"
   ]
  },
  {
   "cell_type": "markdown",
   "metadata": {},
   "source": [
    "1256\n",
    " x65\n",
    "----\n"
   ]
  },
  {
   "cell_type": "markdown",
   "metadata": {},
   "source": [
    "INT\n",
    "\n",
    "***"
   ]
  },
  {
   "cell_type": "code",
   "execution_count": 2,
   "metadata": {},
   "outputs": [
    {
     "data": {
      "text/plain": [
       "'01111011'"
      ]
     },
     "execution_count": 2,
     "metadata": {},
     "output_type": "execute_result"
    }
   ],
   "source": [
    "f'{123:08b}'\n"
   ]
  },
  {
   "cell_type": "code",
   "execution_count": 3,
   "metadata": {},
   "outputs": [
    {
     "data": {
      "text/plain": [
       "'123'"
      ]
     },
     "execution_count": 3,
     "metadata": {},
     "output_type": "execute_result"
    }
   ],
   "source": [
    "'123'"
   ]
  },
  {
   "cell_type": "code",
   "execution_count": 4,
   "metadata": {},
   "outputs": [
    {
     "data": {
      "text/plain": [
       "123.0"
      ]
     },
     "execution_count": 4,
     "metadata": {},
     "output_type": "execute_result"
    }
   ],
   "source": [
    "123.0\n"
   ]
  },
  {
   "cell_type": "code",
   "execution_count": 5,
   "metadata": {},
   "outputs": [
    {
     "data": {
      "text/plain": [
       "4.0"
      ]
     },
     "execution_count": 5,
     "metadata": {},
     "output_type": "execute_result"
    }
   ],
   "source": [
    "8 / 2\n"
   ]
  },
  {
   "cell_type": "code",
   "execution_count": 6,
   "metadata": {},
   "outputs": [
    {
     "data": {
      "text/plain": [
       "float"
      ]
     },
     "execution_count": 6,
     "metadata": {},
     "output_type": "execute_result"
    }
   ],
   "source": [
    "type(8/2)"
   ]
  },
  {
   "cell_type": "code",
   "execution_count": 7,
   "metadata": {},
   "outputs": [
    {
     "data": {
      "text/plain": [
       "int"
      ]
     },
     "execution_count": 7,
     "metadata": {},
     "output_type": "execute_result"
    }
   ],
   "source": [
    "type (8//2)"
   ]
  },
  {
   "cell_type": "markdown",
   "metadata": {},
   "source": [
    "numpy\n",
    "\n",
    "****"
   ]
  },
  {
   "cell_type": "code",
   "execution_count": 8,
   "metadata": {},
   "outputs": [],
   "source": [
    "import numpy as np"
   ]
  },
  {
   "cell_type": "code",
   "execution_count": 9,
   "metadata": {},
   "outputs": [],
   "source": [
    "L = [1, 2, 3, 'ABC', [1, 2, 3]]"
   ]
  },
  {
   "cell_type": "code",
   "execution_count": 10,
   "metadata": {},
   "outputs": [],
   "source": [
    "L = [[1, 2, 3], [4, 5, 6], [7, 8, 9]] # Three dimentional array (matrix)\n",
    "\n",
    "\n"
   ]
  },
  {
   "cell_type": "code",
   "execution_count": 11,
   "metadata": {},
   "outputs": [],
   "source": [
    "L = np.array ([[1, 2, 3], [4, 5, 6], [7, 8, 9]]) # Takes list of list and store it in a efficient format - numpy array"
   ]
  },
  {
   "cell_type": "code",
   "execution_count": 12,
   "metadata": {},
   "outputs": [
    {
     "data": {
      "text/plain": [
       "array([[1, 2, 3],\n",
       "       [4, 5, 6],\n",
       "       [7, 8, 9]])"
      ]
     },
     "execution_count": 12,
     "metadata": {},
     "output_type": "execute_result"
    }
   ],
   "source": [
    "L"
   ]
  },
  {
   "cell_type": "code",
   "execution_count": 13,
   "metadata": {},
   "outputs": [
    {
     "name": "stdout",
     "output_type": "stream",
     "text": [
      "[[1 2 3]\n",
      " [4 5 6]\n",
      " [7 8 9]]\n"
     ]
    }
   ],
   "source": [
    "print (L)"
   ]
  },
  {
   "cell_type": "code",
   "execution_count": 14,
   "metadata": {},
   "outputs": [
    {
     "data": {
      "text/plain": [
       "dtype('int32')"
      ]
     },
     "execution_count": 14,
     "metadata": {},
     "output_type": "execute_result"
    }
   ],
   "source": [
    "L.dtype # datatype (int32 - integeter stored in 32bits)"
   ]
  },
  {
   "cell_type": "code",
   "execution_count": 15,
   "metadata": {},
   "outputs": [],
   "source": [
    "L = np.array ([[1, 2, 3], [4, 5, 6], [7, 8, 9]], dtype = float)"
   ]
  },
  {
   "cell_type": "code",
   "execution_count": 16,
   "metadata": {},
   "outputs": [
    {
     "name": "stdout",
     "output_type": "stream",
     "text": [
      "[[1. 2. 3.]\n",
      " [4. 5. 6.]\n",
      " [7. 8. 9.]]\n"
     ]
    }
   ],
   "source": [
    "print (L)"
   ]
  },
  {
   "cell_type": "code",
   "execution_count": 17,
   "metadata": {},
   "outputs": [
    {
     "data": {
      "text/plain": [
       "array([[0, 1, 2],\n",
       "       [3, 4, 5],\n",
       "       [6, 7, 8]])"
      ]
     },
     "execution_count": 17,
     "metadata": {},
     "output_type": "execute_result"
    }
   ],
   "source": [
    "np.arange(9).reshape(3, 3) # https://numpy.org/"
   ]
  },
  {
   "cell_type": "code",
   "execution_count": 18,
   "metadata": {},
   "outputs": [
    {
     "data": {
      "text/plain": [
       "array([[1, 2, 3],\n",
       "       [4, 5, 6],\n",
       "       [7, 8, 9]])"
      ]
     },
     "execution_count": 18,
     "metadata": {},
     "output_type": "execute_result"
    }
   ],
   "source": [
    "np.arange(9).reshape(3, 3) + 1 # https://numpy.org/"
   ]
  },
  {
   "cell_type": "code",
   "execution_count": 19,
   "metadata": {},
   "outputs": [
    {
     "data": {
      "text/plain": [
       "2"
      ]
     },
     "execution_count": 19,
     "metadata": {},
     "output_type": "execute_result"
    }
   ],
   "source": [
    "np.random.randint(1, 7) # https://numpy.org/devdocs/reference/random/index.html\n",
    "                        "
   ]
  },
  {
   "cell_type": "code",
   "execution_count": 20,
   "metadata": {},
   "outputs": [
    {
     "data": {
      "text/plain": [
       "array([2, 6, 5, 2, 4, 1, 6, 3, 6, 3, 1, 5, 5, 3, 1, 3, 3, 6, 3, 6, 2, 3,\n",
       "       4, 6, 3, 5, 4, 5, 4, 6, 2, 4, 6, 3, 6, 3, 5, 5, 6, 5, 5, 4, 2, 3,\n",
       "       3, 2, 1, 3, 1, 6, 4, 4, 6, 5, 5, 6, 6, 5, 4, 5, 6, 5, 4, 4, 1, 3,\n",
       "       2, 4, 5, 1, 1, 3, 3, 4, 2, 5, 3, 3, 3, 1, 1, 6, 2, 6, 2, 3, 3, 6,\n",
       "       5, 6, 3, 3, 5, 1, 5, 4, 3, 3, 1, 4, 5, 1, 1, 1, 6, 6, 5, 3, 3, 1,\n",
       "       1, 5, 4, 5, 4, 2, 3, 1, 6, 5, 3, 2, 3, 6, 4, 2, 4, 1, 3, 3, 1, 3,\n",
       "       1, 2, 2, 4, 2, 3, 1, 6, 5, 5, 6, 3, 2, 2, 6, 5, 1, 5, 4, 3, 5, 3,\n",
       "       2, 4, 2, 1, 5, 2, 6, 4, 5, 3, 4, 6, 4, 5, 5, 4, 1, 1, 1, 5, 1, 4,\n",
       "       1, 4, 6, 3, 1, 2, 4, 3, 2, 1, 3, 1, 5, 6, 4, 1, 2, 5, 3, 6, 2, 5,\n",
       "       4, 6, 6, 6, 5, 5, 3, 4, 4, 6, 2, 3, 2, 2, 1, 5, 4, 6, 2, 1, 2, 1,\n",
       "       3, 2, 3, 2, 6, 1, 5, 3, 5, 3, 4, 1, 5, 4, 3, 2, 4, 2, 5, 5, 6, 1,\n",
       "       5, 4, 5, 4, 2, 5, 1, 6, 5, 5, 1, 4, 4, 4, 4, 1, 4, 3, 6, 6, 2, 2,\n",
       "       4, 2, 2, 3, 6, 1, 6, 5, 6, 4, 6, 5, 2, 4, 5, 6, 3, 5, 2, 3, 3, 6,\n",
       "       4, 1, 6, 1, 5, 2, 5, 4, 5, 5, 4, 1, 1, 4, 3, 1, 3, 5, 3, 1, 1, 5,\n",
       "       6, 1, 2, 4, 1, 5, 3, 1, 5, 4, 6, 6, 3, 2, 3, 4, 2, 3, 5, 2, 4, 4,\n",
       "       1, 3, 4, 3, 4, 4, 5, 1, 2, 2, 3, 5, 5, 6, 4, 4, 3, 4, 2, 3, 4, 3,\n",
       "       4, 6, 1, 5, 6, 5, 4, 1, 3, 4, 5, 4, 4, 1, 5, 1, 6, 1, 2, 1, 3, 4,\n",
       "       1, 1, 2, 1, 2, 6, 2, 6, 3, 3, 6, 3, 3, 2, 4, 4, 1, 2, 3, 6, 5, 3,\n",
       "       6, 4, 6, 2, 3, 3, 3, 3, 5, 3, 1, 6, 6, 1, 1, 3, 5, 2, 2, 1, 5, 3,\n",
       "       1, 2, 5, 1, 4, 5, 2, 2, 5, 4, 5, 4, 5, 2, 1, 6, 3, 1, 2, 3, 2, 3,\n",
       "       1, 1, 1, 6, 5, 4, 6, 4, 6, 2, 5, 3, 5, 1, 3, 1, 6, 2, 3, 1, 1, 4,\n",
       "       3, 6, 1, 4, 4, 5, 1, 3, 5, 3, 6, 2, 5, 4, 2, 1, 5, 2, 2, 6, 2, 6,\n",
       "       3, 5, 6, 1, 5, 6, 4, 6, 4, 6, 5, 6, 5, 5, 5, 1, 5, 5, 1, 4, 3, 6,\n",
       "       2, 2, 2, 6, 6, 1, 6, 4, 5, 2, 1, 1, 5, 5, 6, 2, 3, 2, 3, 2, 4, 4,\n",
       "       3, 2, 4, 3, 2, 1, 5, 6, 5, 3, 4, 5, 6, 6, 1, 6, 4, 4, 5, 4, 6, 6,\n",
       "       3, 5, 2, 2, 6, 6, 3, 3, 1, 5, 4, 3, 6, 2, 2, 1, 5, 1, 5, 1, 2, 3,\n",
       "       2, 3, 1, 4, 6, 1, 2, 2, 6, 1, 1, 5, 6, 6, 6, 3, 6, 1, 4, 4, 4, 3,\n",
       "       4, 1, 5, 3, 5, 4, 1, 1, 3, 2, 5, 1, 2, 4, 1, 1, 5, 1, 1, 6, 1, 5,\n",
       "       1, 5, 4, 6, 6, 6, 3, 4, 5, 1, 3, 6, 1, 1, 2, 1, 3, 1, 4, 6, 4, 2,\n",
       "       5, 2, 5, 3, 2, 1, 6, 3, 3, 4, 1, 2, 1, 6, 3, 5, 2, 2, 1, 4, 3, 1,\n",
       "       3, 3, 6, 2, 1, 4, 6, 1, 2, 6, 4, 5, 3, 6, 2, 3, 3, 1, 3, 1, 3, 5,\n",
       "       2, 4, 3, 2, 3, 3, 4, 3, 2, 2, 5, 4, 1, 3, 6, 4, 5, 6, 6, 1, 2, 1,\n",
       "       1, 5, 1, 6, 2, 2, 6, 6, 5, 2, 4, 6, 3, 6, 4, 6, 6, 6, 1, 5, 6, 5,\n",
       "       1, 3, 5, 1, 3, 3, 6, 6, 2, 2, 1, 5, 3, 3, 3, 1, 3, 3, 4, 1, 6, 6,\n",
       "       6, 1, 2, 4, 1, 2, 2, 2, 1, 4, 1, 3, 5, 2, 3, 6, 5, 4, 4, 4, 1, 5,\n",
       "       5, 2, 1, 3, 6, 1, 1, 4, 1, 3, 5, 4, 6, 4, 6, 4, 1, 6, 5, 5, 1, 1,\n",
       "       1, 6, 2, 4, 2, 4, 5, 3, 5, 6, 2, 2, 5, 5, 1, 6, 5, 4, 4, 2, 6, 6,\n",
       "       1, 2, 5, 2, 1, 2, 2, 2, 4, 1, 1, 6, 6, 3, 5, 1, 1, 1, 2, 6, 1, 4,\n",
       "       4, 1, 1, 5, 5, 5, 5, 6, 3, 4, 4, 6, 5, 6, 4, 1, 6, 4, 5, 4, 3, 6,\n",
       "       1, 5, 6, 5, 3, 5, 5, 3, 4, 6, 6, 1, 3, 2, 1, 2, 6, 2, 2, 4, 1, 4,\n",
       "       6, 1, 3, 3, 1, 3, 5, 6, 4, 4, 4, 5, 6, 2, 6, 3, 3, 5, 4, 2, 2, 5,\n",
       "       5, 2, 5, 6, 1, 5, 3, 5, 3, 3, 3, 1, 4, 5, 3, 2, 4, 2, 4, 5, 2, 2,\n",
       "       6, 4, 1, 3, 4, 6, 3, 3, 2, 1, 6, 1, 3, 1, 5, 3, 3, 1, 5, 6, 6, 6,\n",
       "       2, 6, 4, 1, 4, 3, 2, 3, 5, 3, 3, 1, 2, 4, 3, 1, 2, 1, 1, 5, 4, 2,\n",
       "       2, 3, 1, 5, 4, 5, 1, 6, 2, 3, 6, 2, 1, 6, 4, 4, 3, 5, 2, 6, 2, 5,\n",
       "       3, 6, 1, 5, 3, 5, 2, 4, 2, 2])"
      ]
     },
     "execution_count": 20,
     "metadata": {},
     "output_type": "execute_result"
    }
   ],
   "source": [
    "np.random.randint(1, 7, 1000)  # roll a die."
   ]
  },
  {
   "cell_type": "code",
   "execution_count": 21,
   "metadata": {},
   "outputs": [],
   "source": [
    "rolls = np.random.randint(1, 7, 1000)  # roll a die."
   ]
  },
  {
   "cell_type": "code",
   "execution_count": 22,
   "metadata": {},
   "outputs": [
    {
     "data": {
      "text/plain": [
       "3.529"
      ]
     },
     "execution_count": 22,
     "metadata": {},
     "output_type": "execute_result"
    }
   ],
   "source": [
    "\n",
    "np.mean(rolls) # average roll."
   ]
  },
  {
   "cell_type": "code",
   "execution_count": 23,
   "metadata": {},
   "outputs": [
    {
     "data": {
      "text/plain": [
       "1.7021042858767497"
      ]
     },
     "execution_count": 23,
     "metadata": {},
     "output_type": "execute_result"
    }
   ],
   "source": [
    "np.std(rolls)   # spread\n"
   ]
  },
  {
   "cell_type": "code",
   "execution_count": 24,
   "metadata": {},
   "outputs": [],
   "source": [
    "likert = np.random.randint(1, 8, 1000)  # likert scale"
   ]
  },
  {
   "cell_type": "code",
   "execution_count": 25,
   "metadata": {},
   "outputs": [
    {
     "data": {
      "text/plain": [
       "4.059"
      ]
     },
     "execution_count": 25,
     "metadata": {},
     "output_type": "execute_result"
    }
   ],
   "source": [
    "np.mean(likert)"
   ]
  },
  {
   "cell_type": "code",
   "execution_count": 26,
   "metadata": {},
   "outputs": [
    {
     "data": {
      "text/plain": [
       "4.0"
      ]
     },
     "execution_count": 26,
     "metadata": {},
     "output_type": "execute_result"
    }
   ],
   "source": [
    "np.median(likert) # median\n"
   ]
  },
  {
   "cell_type": "markdown",
   "metadata": {},
   "source": [
    "## Counts\n",
    "***"
   ]
  },
  {
   "cell_type": "code",
   "execution_count": 27,
   "metadata": {},
   "outputs": [
    {
     "data": {
      "text/plain": [
       "array([5, 5, 4, 1, 4, 1, 5, 2, 5, 1])"
      ]
     },
     "execution_count": 27,
     "metadata": {},
     "output_type": "execute_result"
    }
   ],
   "source": [
    "rolls[:10] # Peak at the first ten values"
   ]
  },
  {
   "cell_type": "code",
   "execution_count": 28,
   "metadata": {},
   "outputs": [
    {
     "data": {
      "text/plain": [
       "array([1, 2, 3, 4, 5, 6])"
      ]
     },
     "execution_count": 28,
     "metadata": {},
     "output_type": "execute_result"
    }
   ],
   "source": [
    "# Unique values in the array\n",
    "\n",
    "np.unique(rolls)\n",
    "\n"
   ]
  },
  {
   "cell_type": "code",
   "execution_count": 29,
   "metadata": {},
   "outputs": [
    {
     "data": {
      "text/plain": [
       "(array([1, 2, 3, 4, 5, 6]), array([164, 150, 185, 171, 154, 176], dtype=int64))"
      ]
     },
     "execution_count": 29,
     "metadata": {},
     "output_type": "execute_result"
    }
   ],
   "source": [
    "# Counts. \n",
    "np.unique(rolls,return_counts=True)"
   ]
  },
  {
   "cell_type": "code",
   "execution_count": 33,
   "metadata": {},
   "outputs": [
    {
     "data": {
      "text/plain": [
       "(array([1, 2, 3, 4, 5, 6]), array([164, 150, 185, 171, 154, 176], dtype=int64))"
      ]
     },
     "execution_count": 33,
     "metadata": {},
     "output_type": "execute_result"
    }
   ],
   "source": [
    "# Counts. \n",
    "un_rolls, counts = np.unique(rolls,return_counts=True)\n",
    "\n",
    "un_rolls, counts"
   ]
  },
  {
   "cell_type": "code",
   "execution_count": 34,
   "metadata": {},
   "outputs": [
    {
     "data": {
      "text/plain": [
       "<BarContainer object of 6 artists>"
      ]
     },
     "execution_count": 34,
     "metadata": {},
     "output_type": "execute_result"
    },
    {
     "data": {
      "image/png": "[encoded data removed]",
      "text/plain": [
       "<Figure size 640x480 with 1 Axes>"
      ]
     },
     "metadata": {},
     "output_type": "display_data"
    }
   ],
   "source": [
    "# Bar chart.\n",
    "\n",
    "import matplotlib.pyplot as plt   # https://matplotlib.org/stable/api/_as_gen/matplotlib.pyplot.bar.html\n",
    "\n",
    "plt.bar(un_rolls, counts)"
   ]
  },
  {
   "cell_type": "code",
   "execution_count": 36,
   "metadata": {},
   "outputs": [
    {
     "data": {
      "text/plain": [
       "5.357142857142857"
      ]
     },
     "execution_count": 36,
     "metadata": {},
     "output_type": "execute_result"
    }
   ],
   "source": [
    "np.mean([1,2,2,2,3,4,5,6,7,8,8,8,9,10])"
   ]
  },
  {
   "cell_type": "code",
   "execution_count": 37,
   "metadata": {},
   "outputs": [
    {
     "data": {
      "text/plain": [
       "5.5"
      ]
     },
     "execution_count": 37,
     "metadata": {},
     "output_type": "execute_result"
    }
   ],
   "source": [
    "np.mean([1,1,1,1,1,1,1,10,10,10,10,10,10,10])"
   ]
  },
  {
   "cell_type": "markdown",
   "metadata": {},
   "source": [
    "### END\n",
    "\n",
    "****"
   ]
  }
 ],
 "metadata": {
  "kernelspec": {
   "display_name": "base",
   "language": "python",
   "name": "python3"
  },
  "language_info": {
   "codemirror_mode": {
    "name": "ipython",
    "version": 3
   },
   "file_extension": ".py",
   "mimetype": "text/x-python",
   "name": "python",
   "nbconvert_exporter": "python",
   "pygments_lexer": "ipython3",
   "version": "3.11.5"
  }
 },
 "nbformat": 4,
 "nbformat_minor": 2
}
