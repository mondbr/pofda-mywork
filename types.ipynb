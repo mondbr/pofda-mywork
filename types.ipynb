{
 "cells": [
  {
   "cell_type": "markdown",
   "metadata": {},
   "source": [
    "Types\n",
    "\n",
    "***"
   ]
  },
  {
   "cell_type": "code",
   "execution_count": null,
   "metadata": {},
   "outputs": [],
   "source": [
    "15 / (5 * 6)\n"
   ]
  },
  {
   "cell_type": "markdown",
   "metadata": {},
   "source": [
    "1256\n",
    " x65\n",
    "----\n"
   ]
  },
  {
   "cell_type": "markdown",
   "metadata": {},
   "source": [
    "INT\n",
    "\n",
    "***"
   ]
  },
  {
   "cell_type": "code",
   "execution_count": 3,
   "metadata": {},
   "outputs": [
    {
     "data": {
      "text/plain": [
       "'01111011'"
      ]
     },
     "execution_count": 3,
     "metadata": {},
     "output_type": "execute_result"
    }
   ],
   "source": [
    "f'{123:08b}'\n"
   ]
  },
  {
   "cell_type": "code",
   "execution_count": 4,
   "metadata": {},
   "outputs": [
    {
     "data": {
      "text/plain": [
       "'123'"
      ]
     },
     "execution_count": 4,
     "metadata": {},
     "output_type": "execute_result"
    }
   ],
   "source": [
    "'123'"
   ]
  },
  {
   "cell_type": "code",
   "execution_count": 5,
   "metadata": {},
   "outputs": [
    {
     "data": {
      "text/plain": [
       "123.0"
      ]
     },
     "execution_count": 5,
     "metadata": {},
     "output_type": "execute_result"
    }
   ],
   "source": [
    "123.0\n"
   ]
  },
  {
   "cell_type": "code",
   "execution_count": 1,
   "metadata": {},
   "outputs": [
    {
     "data": {
      "text/plain": [
       "4.0"
      ]
     },
     "execution_count": 1,
     "metadata": {},
     "output_type": "execute_result"
    }
   ],
   "source": [
    "8 / 2\n"
   ]
  },
  {
   "cell_type": "code",
   "execution_count": 2,
   "metadata": {},
   "outputs": [
    {
     "data": {
      "text/plain": [
       "float"
      ]
     },
     "execution_count": 2,
     "metadata": {},
     "output_type": "execute_result"
    }
   ],
   "source": [
    "type(8/2)"
   ]
  },
  {
   "cell_type": "code",
   "execution_count": 3,
   "metadata": {},
   "outputs": [
    {
     "data": {
      "text/plain": [
       "int"
      ]
     },
     "execution_count": 3,
     "metadata": {},
     "output_type": "execute_result"
    }
   ],
   "source": [
    "type (8//2)"
   ]
  },
  {
   "cell_type": "markdown",
   "metadata": {},
   "source": [
    "numpy\n",
    "\n",
    "****"
   ]
  },
  {
   "cell_type": "code",
   "execution_count": 4,
   "metadata": {},
   "outputs": [],
   "source": [
    "import numpy as np"
   ]
  },
  {
   "cell_type": "code",
   "execution_count": 6,
   "metadata": {},
   "outputs": [],
   "source": [
    "L = [1, 2, 3, 'ABC', [1, 2, 3]]"
   ]
  },
  {
   "cell_type": "code",
   "execution_count": null,
   "metadata": {},
   "outputs": [],
   "source": [
    "L = [[1, 2, 3], [4, 5, 6], [7, 8, 9]] # Three dimentional array (matrix)\n",
    "\n",
    "\n"
   ]
  },
  {
   "cell_type": "code",
   "execution_count": 7,
   "metadata": {},
   "outputs": [],
   "source": [
    "L = np.array ([[1, 2, 3], [4, 5, 6], [7, 8, 9]]) # Takes list of list and store it in a efficient format - numpy array"
   ]
  },
  {
   "cell_type": "code",
   "execution_count": 8,
   "metadata": {},
   "outputs": [
    {
     "data": {
      "text/plain": [
       "array([[1, 2, 3],\n",
       "       [4, 5, 6],\n",
       "       [7, 8, 9]])"
      ]
     },
     "execution_count": 8,
     "metadata": {},
     "output_type": "execute_result"
    }
   ],
   "source": [
    "L"
   ]
  },
  {
   "cell_type": "code",
   "execution_count": 9,
   "metadata": {},
   "outputs": [
    {
     "name": "stdout",
     "output_type": "stream",
     "text": [
      "[[1 2 3]\n",
      " [4 5 6]\n",
      " [7 8 9]]\n"
     ]
    }
   ],
   "source": [
    "print (L)"
   ]
  },
  {
   "cell_type": "code",
   "execution_count": 10,
   "metadata": {},
   "outputs": [
    {
     "data": {
      "text/plain": [
       "dtype('int32')"
      ]
     },
     "execution_count": 10,
     "metadata": {},
     "output_type": "execute_result"
    }
   ],
   "source": [
    "L.dtype # datatype (int32 - integeter stored in 32bits)"
   ]
  },
  {
   "cell_type": "code",
   "execution_count": 11,
   "metadata": {},
   "outputs": [],
   "source": [
    "L = np.array ([[1, 2, 3], [4, 5, 6], [7, 8, 9]], dtype = float)"
   ]
  },
  {
   "cell_type": "code",
   "execution_count": 12,
   "metadata": {},
   "outputs": [
    {
     "name": "stdout",
     "output_type": "stream",
     "text": [
      "[[1. 2. 3.]\n",
      " [4. 5. 6.]\n",
      " [7. 8. 9.]]\n"
     ]
    }
   ],
   "source": [
    "print (L)"
   ]
  },
  {
   "cell_type": "code",
   "execution_count": 15,
   "metadata": {},
   "outputs": [
    {
     "data": {
      "text/plain": [
       "array([[0, 1, 2],\n",
       "       [3, 4, 5],\n",
       "       [6, 7, 8]])"
      ]
     },
     "execution_count": 15,
     "metadata": {},
     "output_type": "execute_result"
    }
   ],
   "source": [
    "np.arange(9).reshape(3, 3) # https://numpy.org/"
   ]
  },
  {
   "cell_type": "code",
   "execution_count": 16,
   "metadata": {},
   "outputs": [
    {
     "data": {
      "text/plain": [
       "array([[1, 2, 3],\n",
       "       [4, 5, 6],\n",
       "       [7, 8, 9]])"
      ]
     },
     "execution_count": 16,
     "metadata": {},
     "output_type": "execute_result"
    }
   ],
   "source": [
    "np.arange(9).reshape(3, 3) + 1 # https://numpy.org/"
   ]
  },
  {
   "cell_type": "code",
   "execution_count": 21,
   "metadata": {},
   "outputs": [
    {
     "data": {
      "text/plain": [
       "4"
      ]
     },
     "execution_count": 21,
     "metadata": {},
     "output_type": "execute_result"
    }
   ],
   "source": [
    "np.random.randint(1, 7) # https://numpy.org/devdocs/reference/random/index.html\n",
    "                        "
   ]
  },
  {
   "cell_type": "code",
   "execution_count": 24,
   "metadata": {},
   "outputs": [
    {
     "data": {
      "text/plain": [
       "array([2, 1, 1, 6, 4, 1, 3, 1, 3, 3, 5, 4, 5, 3, 1, 3, 1, 2, 1, 5, 6, 4,\n",
       "       3, 3, 5, 5, 4, 3, 4, 3, 6, 5, 1, 1, 6, 2, 6, 3, 2, 6, 5, 1, 2, 1,\n",
       "       6, 1, 3, 4, 1, 3, 6, 6, 6, 3, 5, 3, 4, 6, 6, 3, 1, 2, 1, 6, 2, 4,\n",
       "       4, 5, 1, 3, 4, 4, 1, 5, 3, 3, 2, 5, 6, 4, 3, 4, 4, 6, 1, 5, 4, 1,\n",
       "       6, 5, 3, 4, 4, 1, 3, 1, 3, 6, 1, 6, 3, 3, 1, 3, 1, 1, 1, 5, 2, 4,\n",
       "       2, 5, 6, 4, 4, 5, 6, 4, 3, 1, 5, 5, 6, 5, 5, 6, 4, 6, 1, 1, 4, 2,\n",
       "       1, 2, 6, 4, 5, 2, 4, 4, 5, 5, 4, 2, 1, 3, 3, 3, 5, 2, 3, 1, 1, 3,\n",
       "       5, 5, 6, 3, 6, 4, 4, 4, 5, 2, 5, 6, 4, 1, 4, 4, 4, 5, 3, 1, 3, 6,\n",
       "       3, 1, 4, 2, 4, 1, 2, 4, 5, 5, 6, 5, 3, 6, 5, 1, 4, 6, 3, 2, 6, 2,\n",
       "       4, 4, 1, 2, 5, 5, 2, 2, 5, 4, 4, 5, 2, 5, 5, 1, 5, 3, 6, 5, 2, 5,\n",
       "       5, 2, 3, 2, 4, 1, 5, 5, 6, 1, 3, 3, 1, 1, 1, 2, 4, 2, 6, 3, 6, 1,\n",
       "       1, 1, 5, 5, 1, 1, 3, 3, 2, 3, 4, 4, 2, 4, 5, 1, 1, 2, 4, 1, 1, 5,\n",
       "       4, 3, 2, 6, 5, 4, 1, 2, 2, 3, 6, 4, 1, 3, 5, 2, 6, 6, 5, 3, 4, 2,\n",
       "       6, 2, 1, 6, 4, 3, 5, 5, 2, 5, 5, 6, 4, 4, 4, 2, 5, 5, 1, 3, 5, 3,\n",
       "       4, 4, 2, 2, 4, 4, 5, 2, 3, 1, 4, 1, 3, 1, 6, 4, 2, 2, 5, 1, 2, 4,\n",
       "       5, 1, 5, 4, 3, 2, 2, 5, 2, 1, 2, 1, 4, 6, 6, 1, 4, 2, 2, 4, 2, 5,\n",
       "       4, 4, 1, 2, 1, 6, 1, 3, 2, 4, 6, 2, 1, 1, 6, 2, 2, 2, 4, 6, 3, 4,\n",
       "       5, 1, 1, 2, 4, 6, 1, 4, 2, 1, 2, 6, 4, 3, 1, 4, 6, 5, 1, 5, 4, 2,\n",
       "       6, 6, 2, 1, 3, 3, 1, 5, 4, 6, 1, 1, 3, 3, 4, 3, 5, 4, 6, 1, 3, 3,\n",
       "       2, 4, 4, 2, 3, 2, 2, 5, 3, 3, 1, 4, 5, 5, 2, 5, 1, 3, 2, 4, 5, 3,\n",
       "       4, 5, 4, 3, 3, 1, 2, 4, 1, 6, 2, 2, 6, 1, 1, 6, 5, 3, 1, 2, 4, 5,\n",
       "       1, 5, 2, 4, 6, 5, 3, 4, 6, 4, 6, 4, 4, 2, 6, 1, 2, 4, 1, 5, 5, 6,\n",
       "       5, 3, 3, 2, 3, 4, 6, 5, 6, 3, 3, 6, 4, 5, 6, 1, 3, 4, 1, 1, 2, 2,\n",
       "       1, 3, 3, 3, 1, 6, 5, 5, 2, 4, 5, 5, 3, 5, 2, 3, 2, 4, 3, 4, 5, 4,\n",
       "       1, 5, 2, 4, 3, 5, 1, 4, 1, 2, 3, 5, 2, 2, 6, 4, 5, 4, 1, 3, 5, 3,\n",
       "       4, 2, 3, 5, 2, 2, 3, 1, 6, 6, 3, 5, 5, 1, 1, 6, 3, 1, 2, 4, 1, 3,\n",
       "       1, 5, 1, 2, 4, 5, 1, 4, 6, 3, 2, 5, 5, 5, 4, 4, 2, 6, 5, 2, 2, 4,\n",
       "       2, 6, 6, 6, 5, 3, 3, 5, 6, 6, 6, 2, 3, 2, 3, 3, 5, 6, 1, 2, 6, 3,\n",
       "       3, 6, 4, 6, 2, 4, 3, 4, 6, 5, 2, 6, 2, 6, 5, 1, 4, 6, 4, 3, 4, 6,\n",
       "       3, 5, 6, 4, 1, 6, 2, 3, 3, 6, 4, 3, 4, 3, 1, 5, 2, 3, 5, 5, 3, 3,\n",
       "       5, 4, 5, 4, 2, 1, 5, 3, 2, 6, 3, 2, 4, 3, 3, 2, 5, 4, 4, 5, 4, 1,\n",
       "       3, 1, 2, 3, 6, 3, 2, 4, 1, 2, 1, 2, 3, 4, 6, 5, 4, 4, 5, 1, 1, 6,\n",
       "       3, 4, 2, 1, 6, 3, 3, 1, 2, 4, 5, 4, 1, 4, 4, 5, 2, 4, 3, 1, 5, 1,\n",
       "       5, 4, 6, 3, 6, 5, 1, 5, 4, 6, 5, 2, 5, 4, 3, 3, 5, 5, 6, 6, 5, 6,\n",
       "       5, 6, 2, 3, 1, 5, 4, 5, 2, 6, 5, 4, 2, 6, 5, 4, 1, 2, 6, 3, 3, 3,\n",
       "       3, 3, 3, 2, 5, 6, 2, 4, 2, 6, 3, 5, 4, 6, 1, 6, 4, 2, 1, 6, 4, 1,\n",
       "       5, 4, 2, 3, 1, 6, 5, 4, 2, 2, 6, 3, 5, 1, 2, 2, 3, 6, 3, 5, 5, 6,\n",
       "       1, 6, 5, 3, 2, 6, 1, 2, 3, 3, 1, 4, 4, 6, 2, 2, 1, 1, 5, 3, 6, 1,\n",
       "       3, 1, 1, 3, 2, 4, 3, 2, 6, 2, 2, 3, 6, 1, 4, 4, 4, 6, 6, 1, 2, 2,\n",
       "       3, 5, 6, 3, 5, 1, 3, 4, 2, 2, 2, 5, 2, 4, 6, 3, 6, 3, 3, 5, 4, 4,\n",
       "       3, 3, 5, 3, 5, 1, 1, 2, 6, 2, 2, 3, 5, 2, 3, 1, 6, 5, 2, 3, 4, 6,\n",
       "       2, 3, 5, 1, 4, 5, 2, 5, 4, 4, 3, 5, 4, 4, 3, 4, 5, 6, 3, 5, 6, 3,\n",
       "       5, 5, 5, 2, 2, 1, 2, 5, 5, 5, 1, 6, 1, 3, 3, 6, 4, 3, 5, 6, 6, 4,\n",
       "       6, 1, 1, 4, 5, 4, 1, 5, 3, 2, 2, 1, 1, 3, 5, 6, 1, 5, 3, 3, 2, 2,\n",
       "       6, 4, 4, 5, 3, 3, 6, 3, 2, 4, 1, 6, 2, 2, 1, 5, 4, 2, 6, 2, 2, 4,\n",
       "       6, 6, 3, 4, 2, 3, 2, 2, 4, 5])"
      ]
     },
     "execution_count": 24,
     "metadata": {},
     "output_type": "execute_result"
    }
   ],
   "source": [
    "np.random.randint(1, 7, 1000)  # roll a die."
   ]
  },
  {
   "cell_type": "code",
   "execution_count": 25,
   "metadata": {},
   "outputs": [],
   "source": [
    "rolls = np.random.randint(1, 7, 1000)  # roll a die."
   ]
  },
  {
   "cell_type": "code",
   "execution_count": 26,
   "metadata": {},
   "outputs": [
    {
     "data": {
      "text/plain": [
       "3.521"
      ]
     },
     "execution_count": 26,
     "metadata": {},
     "output_type": "execute_result"
    }
   ],
   "source": [
    "\n",
    "np.mean(rolls) # average roll."
   ]
  },
  {
   "cell_type": "code",
   "execution_count": null,
   "metadata": {},
   "outputs": [],
   "source": []
  }
 ],
 "metadata": {
  "kernelspec": {
   "display_name": "base",
   "language": "python",
   "name": "python3"
  },
  "language_info": {
   "codemirror_mode": {
    "name": "ipython",
    "version": 3
   },
   "file_extension": ".py",
   "mimetype": "text/x-python",
   "name": "python",
   "nbconvert_exporter": "python",
   "pygments_lexer": "ipython3",
   "version": "3.11.5"
  }
 },
 "nbformat": 4,
 "nbformat_minor": 2
}
